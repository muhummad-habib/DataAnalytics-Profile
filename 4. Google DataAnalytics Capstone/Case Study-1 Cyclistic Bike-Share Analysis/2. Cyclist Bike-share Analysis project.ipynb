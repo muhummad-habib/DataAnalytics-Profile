{
 "cells": [
  {
   "cell_type": "markdown",
   "id": "74f036cf",
   "metadata": {},
   "source": [
    "# Google Data Analytics Capstone | Cyclistic Bike-Share Analysis Project"
   ]
  },
  {
   "cell_type": "markdown",
   "id": "1429b518",
   "metadata": {},
   "source": [
    "## About this project: \n",
    "\n",
    "The Google Data Analytics Capstone Project, Case Study-1, focuses on analyzing the data of Cyclistic, a fictional bike-share company.\n",
    "The project aims to understand ridership patterns and behavior to optimize marketing strategies and increase ridership. By utilizing data analysis techniques and tools, the project seeks to uncover valuable insights that can drive business decisions and improve the overall performance of Cyclistic."
   ]
  },
  {
   "cell_type": "markdown",
   "id": "3c6c8cbe",
   "metadata": {},
   "source": [
    "## About \"Cyclistic Bike-Share\":\n",
    "\n",
    "\n",
    "Cyclistic is a bike-share company launched in 2016, Operates a fleet of 5,824 bicycles across 692 stations in Chicago.\n",
    "\n",
    "Bikes are geotracked and can be unlocked and returned at any station.\n",
    "\n",
    "Offers pricing plans: single-ride passes, full-day passes, and annual memberships;\n",
    "\n",
    "Casual riders: customers with single-ride or full-day passes\n",
    "\n",
    "Annual members: customers with annual memberships.\n",
    "\n",
    "Financial analysis shows annual members are more profitable.\n",
    "\n",
    "Goal: Convert casual riders into annual members\n",
    "\n",
    "Strategy: Leverage existing awareness and choice of Cyclistic for mobility needs\n"
   ]
  },
  {
   "cell_type": "markdown",
   "id": "fba31fc5",
   "metadata": {},
   "source": [
    "## Libraries & Data Loading"
   ]
  },
  {
   "cell_type": "code",
   "execution_count": 2,
   "id": "2ebef47d",
   "metadata": {},
   "outputs": [],
   "source": [
    "import pandas as pd\n",
    "import numpy as np\n",
    "import matplotlib.pyplot as plt\n",
    "import seaborn as sns\n",
    "import datetime"
   ]
  },
  {
   "cell_type": "code",
   "execution_count": 4,
   "id": "7eb467b5",
   "metadata": {},
   "outputs": [],
   "source": [
    "# Load DataSet\n",
    "\n",
    "df1 = pd.read_csv('C:/Users/meher/OneDrive/Desktop/Cyclistic Case Study/Datasets/202201-divvy-tripdata.csv')\n",
    "\n",
    "df2 = pd.read_csv('C:/Users/meher/OneDrive/Desktop/Cyclistic Case Study/Datasets/202202-divvy-tripdata.csv')\n",
    "\n",
    "df3 = pd.read_csv('C:/Users/meher/OneDrive/Desktop/Cyclistic Case Study/Datasets/202203-divvy-tripdata.csv')\n",
    "\n",
    "df4 = pd.read_csv('C:/Users/meher/OneDrive/Desktop/Cyclistic Case Study/Datasets/202204-divvy-tripdata.csv')\n",
    "\n",
    "df5 = pd.read_csv('C:/Users/meher/OneDrive/Desktop/Cyclistic Case Study/Datasets/202205-divvy-tripdata.csv')\n",
    "\n",
    "df6 = pd.read_csv('C:/Users/meher/OneDrive/Desktop/Cyclistic Case Study/Datasets/202206-divvy-tripdata.csv')\n",
    "\n",
    "df7 = pd.read_csv('C:/Users/meher/OneDrive/Desktop/Cyclistic Case Study/Datasets/202207-divvy-tripdata.csv')\n",
    "\n",
    "df8 = pd.read_csv('C:/Users/meher/OneDrive/Desktop/Cyclistic Case Study/Datasets/202208-divvy-tripdata.csv')\n",
    "\n",
    "df9 = pd.read_csv('C:/Users/meher/OneDrive/Desktop/Cyclistic Case Study/Datasets/202209-divvy-tripdata.csv')\n",
    "\n",
    "df10 = pd.read_csv('C:/Users/meher/OneDrive/Desktop/Cyclistic Case Study/Datasets/202210-divvy-tripdata.csv')\n",
    "\n",
    "df11 = pd.read_csv('C:/Users/meher/OneDrive/Desktop/Cyclistic Case Study/Datasets/202211-divvy-tripdata.csv')\n",
    "\n",
    "df12 = pd.read_csv('C:/Users/meher/OneDrive/Desktop/Cyclistic Case Study/Datasets/202212-divvy-tripdata.csv')"
   ]
  },
  {
   "cell_type": "code",
   "execution_count": 5,
   "id": "221396e0",
   "metadata": {
    "scrolled": true
   },
   "outputs": [
    {
     "data": {
      "text/html": [
       "<div>\n",
       "<style scoped>\n",
       "    .dataframe tbody tr th:only-of-type {\n",
       "        vertical-align: middle;\n",
       "    }\n",
       "\n",
       "    .dataframe tbody tr th {\n",
       "        vertical-align: top;\n",
       "    }\n",
       "\n",
       "    .dataframe thead th {\n",
       "        text-align: right;\n",
       "    }\n",
       "</style>\n",
       "<table border=\"1\" class=\"dataframe\">\n",
       "  <thead>\n",
       "    <tr style=\"text-align: right;\">\n",
       "      <th></th>\n",
       "      <th>ride_id</th>\n",
       "      <th>rideable_type</th>\n",
       "      <th>started_at</th>\n",
       "      <th>start_date</th>\n",
       "      <th>start_time</th>\n",
       "      <th>ended_at</th>\n",
       "      <th>end_date</th>\n",
       "      <th>end_time</th>\n",
       "      <th>day</th>\n",
       "      <th>month</th>\n",
       "      <th>member_casual</th>\n",
       "      <th>duration</th>\n",
       "    </tr>\n",
       "  </thead>\n",
       "  <tbody>\n",
       "    <tr>\n",
       "      <th>0</th>\n",
       "      <td>47EC0A7F82E65D52</td>\n",
       "      <td>classic_bike</td>\n",
       "      <td>3/21/2022 13:45</td>\n",
       "      <td>3/21/2022</td>\n",
       "      <td>13:45:01</td>\n",
       "      <td>3/21/2022 13:51</td>\n",
       "      <td>3/21/2022</td>\n",
       "      <td>13:51:18</td>\n",
       "      <td>Wednesday</td>\n",
       "      <td>March</td>\n",
       "      <td>member</td>\n",
       "      <td>0:06:00</td>\n",
       "    </tr>\n",
       "    <tr>\n",
       "      <th>1</th>\n",
       "      <td>8494861979B0F477</td>\n",
       "      <td>electric_bike</td>\n",
       "      <td>3/16/2022 9:37</td>\n",
       "      <td>3/16/2022</td>\n",
       "      <td>9:37:16</td>\n",
       "      <td>3/16/2022 9:43</td>\n",
       "      <td>3/16/2022</td>\n",
       "      <td>9:43:34</td>\n",
       "      <td>Wednesday</td>\n",
       "      <td>March</td>\n",
       "      <td>member</td>\n",
       "      <td>0:06:00</td>\n",
       "    </tr>\n",
       "    <tr>\n",
       "      <th>2</th>\n",
       "      <td>EFE527AF80B66109</td>\n",
       "      <td>classic_bike</td>\n",
       "      <td>3/23/2022 19:52</td>\n",
       "      <td>3/23/2022</td>\n",
       "      <td>19:52:02</td>\n",
       "      <td>3/23/2022 19:54</td>\n",
       "      <td>3/23/2022</td>\n",
       "      <td>19:54:48</td>\n",
       "      <td>Tuesday</td>\n",
       "      <td>March</td>\n",
       "      <td>member</td>\n",
       "      <td>0:02:00</td>\n",
       "    </tr>\n",
       "    <tr>\n",
       "      <th>3</th>\n",
       "      <td>9F446FD9DEE3F389</td>\n",
       "      <td>classic_bike</td>\n",
       "      <td>3/1/2022 19:12</td>\n",
       "      <td>3/1/2022</td>\n",
       "      <td>19:12:26</td>\n",
       "      <td>3/1/2022 19:22</td>\n",
       "      <td>3/1/2022</td>\n",
       "      <td>19:22:14</td>\n",
       "      <td>Monday</td>\n",
       "      <td>March</td>\n",
       "      <td>member</td>\n",
       "      <td>0:10:00</td>\n",
       "    </tr>\n",
       "    <tr>\n",
       "      <th>4</th>\n",
       "      <td>431128AD9AFFEDC0</td>\n",
       "      <td>classic_bike</td>\n",
       "      <td>3/21/2022 18:37</td>\n",
       "      <td>3/21/2022</td>\n",
       "      <td>18:37:01</td>\n",
       "      <td>3/21/2022 19:19</td>\n",
       "      <td>3/21/2022</td>\n",
       "      <td>19:19:11</td>\n",
       "      <td>Monday</td>\n",
       "      <td>March</td>\n",
       "      <td>member</td>\n",
       "      <td>0:42:00</td>\n",
       "    </tr>\n",
       "  </tbody>\n",
       "</table>\n",
       "</div>"
      ],
      "text/plain": [
       "            ride_id  rideable_type       started_at start_date start_time  \\\n",
       "0  47EC0A7F82E65D52   classic_bike  3/21/2022 13:45  3/21/2022   13:45:01   \n",
       "1  8494861979B0F477  electric_bike   3/16/2022 9:37  3/16/2022    9:37:16   \n",
       "2  EFE527AF80B66109   classic_bike  3/23/2022 19:52  3/23/2022   19:52:02   \n",
       "3  9F446FD9DEE3F389   classic_bike   3/1/2022 19:12   3/1/2022   19:12:26   \n",
       "4  431128AD9AFFEDC0   classic_bike  3/21/2022 18:37  3/21/2022   18:37:01   \n",
       "\n",
       "          ended_at   end_date  end_time        day  month member_casual  \\\n",
       "0  3/21/2022 13:51  3/21/2022  13:51:18  Wednesday  March        member   \n",
       "1   3/16/2022 9:43  3/16/2022   9:43:34  Wednesday  March        member   \n",
       "2  3/23/2022 19:54  3/23/2022  19:54:48    Tuesday  March        member   \n",
       "3   3/1/2022 19:22   3/1/2022  19:22:14     Monday  March        member   \n",
       "4  3/21/2022 19:19  3/21/2022  19:19:11     Monday  March        member   \n",
       "\n",
       "  duration  \n",
       "0  0:06:00  \n",
       "1  0:06:00  \n",
       "2  0:02:00  \n",
       "3  0:10:00  \n",
       "4  0:42:00  "
      ]
     },
     "execution_count": 5,
     "metadata": {},
     "output_type": "execute_result"
    }
   ],
   "source": [
    "# Checking the datasets...\n",
    "\n",
    "# .head() function show us data head which means first some rows.\n",
    "\n",
    "df3.head()"
   ]
  },
  {
   "cell_type": "code",
   "execution_count": 4,
   "id": "949e66e0",
   "metadata": {},
   "outputs": [],
   "source": [
    "# .tail() function show us data's tail which means last some rows.\n",
    "\n",
    "\n",
    "df4.tail()"
   ]
  },
  {
   "cell_type": "code",
   "execution_count": 86,
   "id": "d637e1d5",
   "metadata": {},
   "outputs": [],
   "source": [
    "## Data Combining.....\n",
    "\n",
    "df = pd.concat([df1, df2, df3, df4, df5, df6, df7, df8, df9, df10, df11, df12])\n",
    "\n",
    "## I concatenate the individual datasets into a single DataFrame \"df\"."
   ]
  },
  {
   "cell_type": "code",
   "execution_count": 87,
   "id": "5eabaaa0",
   "metadata": {},
   "outputs": [
    {
     "data": {
      "text/html": [
       "<div>\n",
       "<style scoped>\n",
       "    .dataframe tbody tr th:only-of-type {\n",
       "        vertical-align: middle;\n",
       "    }\n",
       "\n",
       "    .dataframe tbody tr th {\n",
       "        vertical-align: top;\n",
       "    }\n",
       "\n",
       "    .dataframe thead th {\n",
       "        text-align: right;\n",
       "    }\n",
       "</style>\n",
       "<table border=\"1\" class=\"dataframe\">\n",
       "  <thead>\n",
       "    <tr style=\"text-align: right;\">\n",
       "      <th></th>\n",
       "      <th>ride_id</th>\n",
       "      <th>rideable_type</th>\n",
       "      <th>started_at</th>\n",
       "      <th>start_date</th>\n",
       "      <th>start_time</th>\n",
       "      <th>ended_at</th>\n",
       "      <th>end_date</th>\n",
       "      <th>end_time</th>\n",
       "      <th>day</th>\n",
       "      <th>month</th>\n",
       "      <th>member_casual</th>\n",
       "      <th>duration</th>\n",
       "    </tr>\n",
       "  </thead>\n",
       "  <tbody>\n",
       "    <tr>\n",
       "      <th>0</th>\n",
       "      <td>C2F7DD78E82EC875</td>\n",
       "      <td>electric_bike</td>\n",
       "      <td>2022-01-13 11:59:00</td>\n",
       "      <td>2022-01-13</td>\n",
       "      <td>11:59:47</td>\n",
       "      <td>2022-01-13 12:02:00</td>\n",
       "      <td>01/13/2022</td>\n",
       "      <td>12:02:44</td>\n",
       "      <td>Thursday</td>\n",
       "      <td>January</td>\n",
       "      <td>casual</td>\n",
       "      <td>0:02:57</td>\n",
       "    </tr>\n",
       "    <tr>\n",
       "      <th>1</th>\n",
       "      <td>A6CF8980A652D272</td>\n",
       "      <td>electric_bike</td>\n",
       "      <td>2022-01-10 08:41:00</td>\n",
       "      <td>2022-01-10</td>\n",
       "      <td>8:41:56</td>\n",
       "      <td>2022-01-10 08:46:00</td>\n",
       "      <td>01/10/2022</td>\n",
       "      <td>8:46:17</td>\n",
       "      <td>Monday</td>\n",
       "      <td>January</td>\n",
       "      <td>casual</td>\n",
       "      <td>0:04:21</td>\n",
       "    </tr>\n",
       "    <tr>\n",
       "      <th>2</th>\n",
       "      <td>BD0F91DFF741C66D</td>\n",
       "      <td>classic_bike</td>\n",
       "      <td>2022-01-25 04:53:00</td>\n",
       "      <td>2022-01-25</td>\n",
       "      <td>4:53:40</td>\n",
       "      <td>2022-01-25 04:58:00</td>\n",
       "      <td>01/25/2022</td>\n",
       "      <td>4:58:01</td>\n",
       "      <td>Tuesday</td>\n",
       "      <td>January</td>\n",
       "      <td>member</td>\n",
       "      <td>0:04:21</td>\n",
       "    </tr>\n",
       "    <tr>\n",
       "      <th>3</th>\n",
       "      <td>CBB80ED419105406</td>\n",
       "      <td>classic_bike</td>\n",
       "      <td>2022-01-04 00:18:00</td>\n",
       "      <td>2022-01-04</td>\n",
       "      <td>0:18:04</td>\n",
       "      <td>2022-01-04 00:33:00</td>\n",
       "      <td>01/04/2022</td>\n",
       "      <td>0:33:00</td>\n",
       "      <td>Tuesday</td>\n",
       "      <td>January</td>\n",
       "      <td>casual</td>\n",
       "      <td>0:14:56</td>\n",
       "    </tr>\n",
       "    <tr>\n",
       "      <th>4</th>\n",
       "      <td>DDC963BFDDA51EEA</td>\n",
       "      <td>classic_bike</td>\n",
       "      <td>2022-01-20 01:31:00</td>\n",
       "      <td>2022-01-20</td>\n",
       "      <td>1:31:10</td>\n",
       "      <td>2022-01-20 01:37:00</td>\n",
       "      <td>01/20/2022</td>\n",
       "      <td>1:37:12</td>\n",
       "      <td>Thursday</td>\n",
       "      <td>January</td>\n",
       "      <td>member</td>\n",
       "      <td>0:06:02</td>\n",
       "    </tr>\n",
       "    <tr>\n",
       "      <th>5</th>\n",
       "      <td>A39C6F6CC0586C0B</td>\n",
       "      <td>classic_bike</td>\n",
       "      <td>2022-01-11 18:48:00</td>\n",
       "      <td>2022-01-11</td>\n",
       "      <td>18:48:09</td>\n",
       "      <td>2022-01-11 18:51:00</td>\n",
       "      <td>01/11/2022</td>\n",
       "      <td>18:51:31</td>\n",
       "      <td>Tuesday</td>\n",
       "      <td>January</td>\n",
       "      <td>member</td>\n",
       "      <td>0:03:22</td>\n",
       "    </tr>\n",
       "    <tr>\n",
       "      <th>6</th>\n",
       "      <td>BDC4AB637EDF981B</td>\n",
       "      <td>classic_bike</td>\n",
       "      <td>2022-01-30 18:32:00</td>\n",
       "      <td>2022-01-30</td>\n",
       "      <td>18:32:52</td>\n",
       "      <td>2022-01-30 18:49:00</td>\n",
       "      <td>01/30/2022</td>\n",
       "      <td>18:49:26</td>\n",
       "      <td>Sunday</td>\n",
       "      <td>January</td>\n",
       "      <td>member</td>\n",
       "      <td>0:16:34</td>\n",
       "    </tr>\n",
       "    <tr>\n",
       "      <th>7</th>\n",
       "      <td>81751A3186E59A6B</td>\n",
       "      <td>classic_bike</td>\n",
       "      <td>2022-01-22 12:20:00</td>\n",
       "      <td>2022-01-22</td>\n",
       "      <td>12:20:02</td>\n",
       "      <td>2022-01-22 12:32:00</td>\n",
       "      <td>01/22/2022</td>\n",
       "      <td>12:32:06</td>\n",
       "      <td>Saturday</td>\n",
       "      <td>January</td>\n",
       "      <td>member</td>\n",
       "      <td>0:12:04</td>\n",
       "    </tr>\n",
       "    <tr>\n",
       "      <th>8</th>\n",
       "      <td>154222B86A338ABD</td>\n",
       "      <td>electric_bike</td>\n",
       "      <td>2022-01-17 07:34:00</td>\n",
       "      <td>2022-01-17</td>\n",
       "      <td>7:34:41</td>\n",
       "      <td>2022-01-17 08:00:00</td>\n",
       "      <td>01/17/2022</td>\n",
       "      <td>8:00:08</td>\n",
       "      <td>Monday</td>\n",
       "      <td>January</td>\n",
       "      <td>member</td>\n",
       "      <td>0:25:27</td>\n",
       "    </tr>\n",
       "    <tr>\n",
       "      <th>9</th>\n",
       "      <td>72DC25B2DD467EEF</td>\n",
       "      <td>classic_bike</td>\n",
       "      <td>2022-01-28 15:27:00</td>\n",
       "      <td>2022-01-28</td>\n",
       "      <td>15:27:53</td>\n",
       "      <td>2022-01-28 15:35:00</td>\n",
       "      <td>01/28/2022</td>\n",
       "      <td>15:35:16</td>\n",
       "      <td>Friday</td>\n",
       "      <td>January</td>\n",
       "      <td>member</td>\n",
       "      <td>0:07:23</td>\n",
       "    </tr>\n",
       "  </tbody>\n",
       "</table>\n",
       "</div>"
      ],
      "text/plain": [
       "            ride_id  rideable_type          started_at start_date start_time  \\\n",
       "0  C2F7DD78E82EC875  electric_bike 2022-01-13 11:59:00 2022-01-13   11:59:47   \n",
       "1  A6CF8980A652D272  electric_bike 2022-01-10 08:41:00 2022-01-10    8:41:56   \n",
       "2  BD0F91DFF741C66D   classic_bike 2022-01-25 04:53:00 2022-01-25    4:53:40   \n",
       "3  CBB80ED419105406   classic_bike 2022-01-04 00:18:00 2022-01-04    0:18:04   \n",
       "4  DDC963BFDDA51EEA   classic_bike 2022-01-20 01:31:00 2022-01-20    1:31:10   \n",
       "5  A39C6F6CC0586C0B   classic_bike 2022-01-11 18:48:00 2022-01-11   18:48:09   \n",
       "6  BDC4AB637EDF981B   classic_bike 2022-01-30 18:32:00 2022-01-30   18:32:52   \n",
       "7  81751A3186E59A6B   classic_bike 2022-01-22 12:20:00 2022-01-22   12:20:02   \n",
       "8  154222B86A338ABD  electric_bike 2022-01-17 07:34:00 2022-01-17    7:34:41   \n",
       "9  72DC25B2DD467EEF   classic_bike 2022-01-28 15:27:00 2022-01-28   15:27:53   \n",
       "\n",
       "             ended_at    end_date  end_time       day    month member_casual  \\\n",
       "0 2022-01-13 12:02:00  01/13/2022  12:02:44  Thursday  January        casual   \n",
       "1 2022-01-10 08:46:00  01/10/2022   8:46:17    Monday  January        casual   \n",
       "2 2022-01-25 04:58:00  01/25/2022   4:58:01   Tuesday  January        member   \n",
       "3 2022-01-04 00:33:00  01/04/2022   0:33:00   Tuesday  January        casual   \n",
       "4 2022-01-20 01:37:00  01/20/2022   1:37:12  Thursday  January        member   \n",
       "5 2022-01-11 18:51:00  01/11/2022  18:51:31   Tuesday  January        member   \n",
       "6 2022-01-30 18:49:00  01/30/2022  18:49:26    Sunday  January        member   \n",
       "7 2022-01-22 12:32:00  01/22/2022  12:32:06  Saturday  January        member   \n",
       "8 2022-01-17 08:00:00  01/17/2022   8:00:08    Monday  January        member   \n",
       "9 2022-01-28 15:35:00  01/28/2022  15:35:16    Friday  January        member   \n",
       "\n",
       "  duration  \n",
       "0  0:02:57  \n",
       "1  0:04:21  \n",
       "2  0:04:21  \n",
       "3  0:14:56  \n",
       "4  0:06:02  \n",
       "5  0:03:22  \n",
       "6  0:16:34  \n",
       "7  0:12:04  \n",
       "8  0:25:27  \n",
       "9  0:07:23  "
      ]
     },
     "execution_count": 87,
     "metadata": {},
     "output_type": "execute_result"
    }
   ],
   "source": [
    "df.head(10)"
   ]
  },
  {
   "cell_type": "code",
   "execution_count": 12,
   "id": "c9d9384a",
   "metadata": {},
   "outputs": [],
   "source": [
    "# remove individual month data frames to clear up space in the environment\n",
    "del df1, df2, df3, df4, df5, df6, df7, df8, df9, df10, df11, df12\n"
   ]
  },
  {
   "cell_type": "markdown",
   "id": "760f326b",
   "metadata": {},
   "source": [
    "## Data Preprocessing"
   ]
  },
  {
   "cell_type": "markdown",
   "id": "9e356f8d",
   "metadata": {},
   "source": [
    "Data Conversion & Manipulation"
   ]
  },
  {
   "cell_type": "code",
   "execution_count": 175,
   "id": "622004b3",
   "metadata": {},
   "outputs": [
    {
     "name": "stderr",
     "output_type": "stream",
     "text": [
      "C:\\Users\\meher\\AppData\\Local\\Temp\\ipykernel_11112\\1775203428.py:1: SettingWithCopyWarning: \n",
      "A value is trying to be set on a copy of a slice from a DataFrame\n",
      "\n",
      "See the caveats in the documentation: https://pandas.pydata.org/pandas-docs/stable/user_guide/indexing.html#returning-a-view-versus-a-copy\n",
      "  df.rename(columns = {'rideable_type':'bike_type', 'member_casual': 'rider_type', 'duration': 'ride_length',\n"
     ]
    }
   ],
   "source": [
    "# The column names are renamed using the .rename() function.\n",
    "\n",
    "df.rename(columns = {'rideable_type':'bike_type', 'member_casual': 'rider_type', 'duration': 'ride_length',\n",
    "                     'start_date' : 'date', 'start_time' : 'time', 'day':'weekday'}, inplace = True)"
   ]
  },
  {
   "cell_type": "code",
   "execution_count": 92,
   "id": "3b4251d1",
   "metadata": {},
   "outputs": [
    {
     "data": {
      "text/plain": [
       "Index(['ride_id', 'bike_type', 'started_at', 'date', 'time', 'ended_at',\n",
       "       'end_date', 'end_time', 'day', 'month', 'rider_type', 'ride_length'],\n",
       "      dtype='object')"
      ]
     },
     "execution_count": 92,
     "metadata": {},
     "output_type": "execute_result"
    }
   ],
   "source": [
    "# The column names are displayed using '.columns'\n",
    "\n",
    "df.columns"
   ]
  },
  {
   "cell_type": "code",
   "execution_count": 137,
   "id": "5a7760bc",
   "metadata": {},
   "outputs": [],
   "source": [
    "# Excluding error values because in ride length column, there's error value like '#########'.\n",
    "\n",
    "df = df[~df['ride_length'].str.contains('#####')]"
   ]
  },
  {
   "cell_type": "markdown",
   "id": "949e29fa",
   "metadata": {},
   "source": [
    "Rows with error values in the 'ride_length' column (indicated by '#####') are removed using boolean indexing."
   ]
  },
  {
   "cell_type": "code",
   "execution_count": 89,
   "id": "5816d8d8",
   "metadata": {},
   "outputs": [
    {
     "data": {
      "text/html": [
       "<div>\n",
       "<style scoped>\n",
       "    .dataframe tbody tr th:only-of-type {\n",
       "        vertical-align: middle;\n",
       "    }\n",
       "\n",
       "    .dataframe tbody tr th {\n",
       "        vertical-align: top;\n",
       "    }\n",
       "\n",
       "    .dataframe thead th {\n",
       "        text-align: right;\n",
       "    }\n",
       "</style>\n",
       "<table border=\"1\" class=\"dataframe\">\n",
       "  <thead>\n",
       "    <tr style=\"text-align: right;\">\n",
       "      <th></th>\n",
       "      <th>ride_id</th>\n",
       "      <th>bike_type</th>\n",
       "      <th>started_at</th>\n",
       "      <th>date</th>\n",
       "      <th>time</th>\n",
       "      <th>ended_at</th>\n",
       "      <th>end_date</th>\n",
       "      <th>end_time</th>\n",
       "      <th>day</th>\n",
       "      <th>month</th>\n",
       "      <th>rider_type</th>\n",
       "      <th>ride_length</th>\n",
       "    </tr>\n",
       "  </thead>\n",
       "  <tbody>\n",
       "    <tr>\n",
       "      <th>180806</th>\n",
       "      <td>97F067CA5E87B718</td>\n",
       "      <td>classic_bike</td>\n",
       "      <td>2022-12-18 13:44:00</td>\n",
       "      <td>2022-12-18</td>\n",
       "      <td>13:44:28</td>\n",
       "      <td>2022-12-18 13:44:00</td>\n",
       "      <td>12/18/2022</td>\n",
       "      <td>13:44:36</td>\n",
       "      <td>Sunday</td>\n",
       "      <td>December</td>\n",
       "      <td>member</td>\n",
       "      <td>0:00:00</td>\n",
       "    </tr>\n",
       "    <tr>\n",
       "      <th>180807</th>\n",
       "      <td>745479C843C13C4A</td>\n",
       "      <td>electric_bike</td>\n",
       "      <td>2022-12-04 20:38:00</td>\n",
       "      <td>2022-12-04</td>\n",
       "      <td>20:38:49</td>\n",
       "      <td>2022-12-04 20:38:00</td>\n",
       "      <td>12/4/2022</td>\n",
       "      <td>20:38:57</td>\n",
       "      <td>Sunday</td>\n",
       "      <td>December</td>\n",
       "      <td>member</td>\n",
       "      <td>0:00:00</td>\n",
       "    </tr>\n",
       "    <tr>\n",
       "      <th>180808</th>\n",
       "      <td>562887252906E699</td>\n",
       "      <td>classic_bike</td>\n",
       "      <td>2022-12-06 20:08:00</td>\n",
       "      <td>2022-12-06</td>\n",
       "      <td>20:08:19</td>\n",
       "      <td>2022-12-06 20:08:00</td>\n",
       "      <td>12/6/2022</td>\n",
       "      <td>20:08:27</td>\n",
       "      <td>Tuesday</td>\n",
       "      <td>December</td>\n",
       "      <td>member</td>\n",
       "      <td>0:00:00</td>\n",
       "    </tr>\n",
       "    <tr>\n",
       "      <th>180809</th>\n",
       "      <td>B5224DB638B563C6</td>\n",
       "      <td>electric_bike</td>\n",
       "      <td>2022-12-17 16:08:00</td>\n",
       "      <td>2022-12-17</td>\n",
       "      <td>16:08:23</td>\n",
       "      <td>2022-12-17 16:08:00</td>\n",
       "      <td>12/17/2022</td>\n",
       "      <td>16:08:31</td>\n",
       "      <td>Saturday</td>\n",
       "      <td>December</td>\n",
       "      <td>member</td>\n",
       "      <td>0:00:00</td>\n",
       "    </tr>\n",
       "    <tr>\n",
       "      <th>180810</th>\n",
       "      <td>9F462A8C89C2C305</td>\n",
       "      <td>electric_bike</td>\n",
       "      <td>2022-12-12 13:03:00</td>\n",
       "      <td>2022-12-12</td>\n",
       "      <td>13:03:11</td>\n",
       "      <td>2022-12-12 13:03:00</td>\n",
       "      <td>12/12/2022</td>\n",
       "      <td>13:03:19</td>\n",
       "      <td>Monday</td>\n",
       "      <td>December</td>\n",
       "      <td>member</td>\n",
       "      <td>0:00:00</td>\n",
       "    </tr>\n",
       "    <tr>\n",
       "      <th>...</th>\n",
       "      <td>...</td>\n",
       "      <td>...</td>\n",
       "      <td>...</td>\n",
       "      <td>...</td>\n",
       "      <td>...</td>\n",
       "      <td>...</td>\n",
       "      <td>...</td>\n",
       "      <td>...</td>\n",
       "      <td>...</td>\n",
       "      <td>...</td>\n",
       "      <td>...</td>\n",
       "      <td>...</td>\n",
       "    </tr>\n",
       "    <tr>\n",
       "      <th>181801</th>\n",
       "      <td>0D6D8E1FB6361A7F</td>\n",
       "      <td>classic_bike</td>\n",
       "      <td>2022-12-09 17:00:00</td>\n",
       "      <td>2022-12-09</td>\n",
       "      <td>17:00:05</td>\n",
       "      <td>2022-12-09 17:00:00</td>\n",
       "      <td>12/9/2022</td>\n",
       "      <td>17:00:05</td>\n",
       "      <td>Friday</td>\n",
       "      <td>December</td>\n",
       "      <td>member</td>\n",
       "      <td>0:00:00</td>\n",
       "    </tr>\n",
       "    <tr>\n",
       "      <th>181802</th>\n",
       "      <td>CE8B25EE8BC25DF2</td>\n",
       "      <td>electric_bike</td>\n",
       "      <td>2022-12-18 11:54:00</td>\n",
       "      <td>2022-12-18</td>\n",
       "      <td>11:54:47</td>\n",
       "      <td>2022-12-18 11:54:00</td>\n",
       "      <td>12/18/2022</td>\n",
       "      <td>11:54:47</td>\n",
       "      <td>Sunday</td>\n",
       "      <td>December</td>\n",
       "      <td>casual</td>\n",
       "      <td>0:00:00</td>\n",
       "    </tr>\n",
       "    <tr>\n",
       "      <th>181803</th>\n",
       "      <td>1C9AC091E19D9909</td>\n",
       "      <td>electric_bike</td>\n",
       "      <td>2022-12-08 17:05:00</td>\n",
       "      <td>2022-12-08</td>\n",
       "      <td>17:05:32</td>\n",
       "      <td>2022-12-08 17:05:00</td>\n",
       "      <td>12/8/2022</td>\n",
       "      <td>17:05:32</td>\n",
       "      <td>Thursday</td>\n",
       "      <td>December</td>\n",
       "      <td>member</td>\n",
       "      <td>0:00:00</td>\n",
       "    </tr>\n",
       "    <tr>\n",
       "      <th>181804</th>\n",
       "      <td>4EEBB6ACBEBE8E80</td>\n",
       "      <td>electric_bike</td>\n",
       "      <td>2022-12-10 13:33:00</td>\n",
       "      <td>2022-12-10</td>\n",
       "      <td>13:33:49</td>\n",
       "      <td>2022-12-10 13:33:00</td>\n",
       "      <td>12/10/2022</td>\n",
       "      <td>13:33:49</td>\n",
       "      <td>Saturday</td>\n",
       "      <td>December</td>\n",
       "      <td>member</td>\n",
       "      <td>0:00:00</td>\n",
       "    </tr>\n",
       "    <tr>\n",
       "      <th>181805</th>\n",
       "      <td>3542B0541AA38AB6</td>\n",
       "      <td>classic_bike</td>\n",
       "      <td>2022-12-10 11:59:00</td>\n",
       "      <td>2022-12-10</td>\n",
       "      <td>11:59:06</td>\n",
       "      <td>2022-12-10 11:59:00</td>\n",
       "      <td>12/10/2022</td>\n",
       "      <td>11:59:06</td>\n",
       "      <td>Saturday</td>\n",
       "      <td>December</td>\n",
       "      <td>member</td>\n",
       "      <td>0:00:00</td>\n",
       "    </tr>\n",
       "  </tbody>\n",
       "</table>\n",
       "<p>1000 rows × 12 columns</p>\n",
       "</div>"
      ],
      "text/plain": [
       "                 ride_id      bike_type          started_at       date  \\\n",
       "180806  97F067CA5E87B718   classic_bike 2022-12-18 13:44:00 2022-12-18   \n",
       "180807  745479C843C13C4A  electric_bike 2022-12-04 20:38:00 2022-12-04   \n",
       "180808  562887252906E699   classic_bike 2022-12-06 20:08:00 2022-12-06   \n",
       "180809  B5224DB638B563C6  electric_bike 2022-12-17 16:08:00 2022-12-17   \n",
       "180810  9F462A8C89C2C305  electric_bike 2022-12-12 13:03:00 2022-12-12   \n",
       "...                  ...            ...                 ...        ...   \n",
       "181801  0D6D8E1FB6361A7F   classic_bike 2022-12-09 17:00:00 2022-12-09   \n",
       "181802  CE8B25EE8BC25DF2  electric_bike 2022-12-18 11:54:00 2022-12-18   \n",
       "181803  1C9AC091E19D9909  electric_bike 2022-12-08 17:05:00 2022-12-08   \n",
       "181804  4EEBB6ACBEBE8E80  electric_bike 2022-12-10 13:33:00 2022-12-10   \n",
       "181805  3542B0541AA38AB6   classic_bike 2022-12-10 11:59:00 2022-12-10   \n",
       "\n",
       "            time            ended_at    end_date  end_time       day  \\\n",
       "180806  13:44:28 2022-12-18 13:44:00  12/18/2022  13:44:36    Sunday   \n",
       "180807  20:38:49 2022-12-04 20:38:00   12/4/2022  20:38:57    Sunday   \n",
       "180808  20:08:19 2022-12-06 20:08:00   12/6/2022  20:08:27   Tuesday   \n",
       "180809  16:08:23 2022-12-17 16:08:00  12/17/2022  16:08:31  Saturday   \n",
       "180810  13:03:11 2022-12-12 13:03:00  12/12/2022  13:03:19    Monday   \n",
       "...          ...                 ...         ...       ...       ...   \n",
       "181801  17:00:05 2022-12-09 17:00:00   12/9/2022  17:00:05    Friday   \n",
       "181802  11:54:47 2022-12-18 11:54:00  12/18/2022  11:54:47    Sunday   \n",
       "181803  17:05:32 2022-12-08 17:05:00   12/8/2022  17:05:32  Thursday   \n",
       "181804  13:33:49 2022-12-10 13:33:00  12/10/2022  13:33:49  Saturday   \n",
       "181805  11:59:06 2022-12-10 11:59:00  12/10/2022  11:59:06  Saturday   \n",
       "\n",
       "           month rider_type ride_length  \n",
       "180806  December     member     0:00:00  \n",
       "180807  December     member     0:00:00  \n",
       "180808  December     member     0:00:00  \n",
       "180809  December     member     0:00:00  \n",
       "180810  December     member     0:00:00  \n",
       "...          ...        ...         ...  \n",
       "181801  December     member     0:00:00  \n",
       "181802  December     casual     0:00:00  \n",
       "181803  December     member     0:00:00  \n",
       "181804  December     member     0:00:00  \n",
       "181805  December     member     0:00:00  \n",
       "\n",
       "[1000 rows x 12 columns]"
      ]
     },
     "execution_count": 89,
     "metadata": {},
     "output_type": "execute_result"
    }
   ],
   "source": [
    "df.tail(1000)"
   ]
  },
  {
   "cell_type": "code",
   "execution_count": 90,
   "id": "dcc4ca12",
   "metadata": {},
   "outputs": [
    {
     "data": {
      "text/plain": [
       "(5667634, 12)"
      ]
     },
     "execution_count": 90,
     "metadata": {},
     "output_type": "execute_result"
    }
   ],
   "source": [
    "# data's dimension checking.....\n",
    "\n",
    "df.shape"
   ]
  },
  {
   "cell_type": "code",
   "execution_count": 93,
   "id": "7c636ba4",
   "metadata": {},
   "outputs": [],
   "source": [
    "# convert 'duration' column to timedelta format\n",
    "df['ride_length'] = pd.to_timedelta(df['ride_length'])\n",
    "\n",
    "# df12['started_at'] = pd.to_datetime(df12['started_at'], errors='coerce')\n",
    "# df12['ended_at'] = pd.to_datetime(df12['ended_at'], errors='coerce')\n",
    "# df12['start_date'] = pd.to_datetime(df12['start_date'], errors='coerce')\n",
    "# df2['start_time'] = pd.to_datetime(df2['start_time'], errors='coerce')\n",
    "# df2['end_date'] = pd.to_datetime(df2['end_date'], errors='coerce')\n",
    "# df2['end_time'] = pd.to_datetime(df2['end_time'], errors='coerce')"
   ]
  },
  {
   "cell_type": "code",
   "execution_count": 1,
   "id": "b25e5301",
   "metadata": {},
   "outputs": [],
   "source": [
    "# Convert duration to minutes and round off\n",
    "\n",
    "df['ride_length'] = round(df['ride_length'].dt.total_seconds() / 60)"
   ]
  },
  {
   "cell_type": "code",
   "execution_count": 95,
   "id": "0f9117fe",
   "metadata": {
    "scrolled": true
   },
   "outputs": [
    {
     "data": {
      "text/plain": [
       "0          3\n",
       "1          4\n",
       "2          4\n",
       "3         15\n",
       "4          6\n",
       "          ..\n",
       "181801     0\n",
       "181802     0\n",
       "181803     0\n",
       "181804     0\n",
       "181805     0\n",
       "Name: ride_length, Length: 5667634, dtype: int32"
      ]
     },
     "execution_count": 95,
     "metadata": {},
     "output_type": "execute_result"
    }
   ],
   "source": [
    "df['ride_length'] = df['ride_length'].astype(int)\n",
    "df['ride_length']"
   ]
  },
  {
   "cell_type": "code",
   "execution_count": 91,
   "id": "174d22e6",
   "metadata": {
    "scrolled": true
   },
   "outputs": [
    {
     "name": "stdout",
     "output_type": "stream",
     "text": [
      "<class 'pandas.core.frame.DataFrame'>\n",
      "Int64Index: 5667634 entries, 0 to 181805\n",
      "Data columns (total 12 columns):\n",
      " #   Column       Dtype         \n",
      "---  ------       -----         \n",
      " 0   ride_id      object        \n",
      " 1   bike_type    object        \n",
      " 2   started_at   datetime64[ns]\n",
      " 3   date         datetime64[ns]\n",
      " 4   time         object        \n",
      " 5   ended_at     datetime64[ns]\n",
      " 6   end_date     object        \n",
      " 7   end_time     object        \n",
      " 8   day          object        \n",
      " 9   month        object        \n",
      " 10  rider_type   object        \n",
      " 11  ride_length  object        \n",
      "dtypes: datetime64[ns](3), object(9)\n",
      "memory usage: 562.1+ MB\n"
     ]
    }
   ],
   "source": [
    "# The data types of columns are checked using '.info()' \n",
    "\n",
    "df.info()"
   ]
  },
  {
   "cell_type": "markdown",
   "id": "e8eb01e6",
   "metadata": {},
   "source": [
    "Feature Engineering"
   ]
  },
  {
   "cell_type": "code",
   "execution_count": 179,
   "id": "b804335c",
   "metadata": {},
   "outputs": [],
   "source": [
    "# create a new column named 'hour' after 'start_time' column\n",
    "\n",
    "# df.insert(loc=df.columns.get_loc('time')+1, column='hour', value=df['started_at'].dt.round('H').dt.hour)\n",
    "\n",
    "df.insert(loc=df.columns.get_loc('weekday')+1, column='month_day', value=df['started_at'].dt.day.astype(str).str.zfill(2))\n"
   ]
  },
  {
   "cell_type": "code",
   "execution_count": 103,
   "id": "1e5e5dee",
   "metadata": {},
   "outputs": [],
   "source": [
    "ended_at = df.pop('ended_at')\n",
    "df.insert(loc=df.columns.get_loc('month')+1, column='ended_at', value=ended_at)"
   ]
  },
  {
   "cell_type": "code",
   "execution_count": 107,
   "id": "3e6fd42c",
   "metadata": {},
   "outputs": [],
   "source": [
    "# create column for different seasons: Spring, Summer, Fall, Winter\n",
    "\n",
    "\n",
    "df['season'] = np.select([(df['month'] == 'March') | (df['month'] == 'April') | (df['month'] == 'May'),\n",
    "                          (df['month'] == 'June') | (df['month'] == 'July') | (df['month'] == 'August'),\n",
    "                          (df['month'] == 'September') | (df['month'] == 'October') | (df['month'] == 'November'),\n",
    "                          (df['month'] == 'December') | (df['month'] == 'January') | (df['month'] == 'February')],\n",
    "                         ['Spring', 'Summer', 'Fall', 'Winter'])"
   ]
  },
  {
   "cell_type": "code",
   "execution_count": 123,
   "id": "7c8b3a34",
   "metadata": {},
   "outputs": [],
   "source": [
    "\n",
    "# create column for different time_of_day: Night, Morning, Afternoon, Evening\n",
    "\n",
    "\n",
    "df['time_of_day'] = np.select([(df['hour'].isin([0, 1, 2, 3, 4, 5])),\n",
    "                               (df['hour'].isin([6, 7, 8, 9, 10, 11])),\n",
    "                               (df['hour'].isin([12, 13, 14, 15, 16, 17])),\n",
    "                               (df['hour'].isin([18, 19, 20, 21, 22, 23]))],\n",
    "                              ['Night', 'Morning', 'Afternoon', 'Evening'], default='Unknown')"
   ]
  },
  {
   "cell_type": "code",
   "execution_count": 7,
   "id": "ae64cf02",
   "metadata": {
    "scrolled": true
   },
   "outputs": [
    {
     "data": {
      "text/html": [
       "<div>\n",
       "<style scoped>\n",
       "    .dataframe tbody tr th:only-of-type {\n",
       "        vertical-align: middle;\n",
       "    }\n",
       "\n",
       "    .dataframe tbody tr th {\n",
       "        vertical-align: top;\n",
       "    }\n",
       "\n",
       "    .dataframe thead th {\n",
       "        text-align: right;\n",
       "    }\n",
       "</style>\n",
       "<table border=\"1\" class=\"dataframe\">\n",
       "  <thead>\n",
       "    <tr style=\"text-align: right;\">\n",
       "      <th></th>\n",
       "      <th>ride_id</th>\n",
       "      <th>bike_type</th>\n",
       "      <th>started_at</th>\n",
       "      <th>date</th>\n",
       "      <th>time</th>\n",
       "      <th>hour</th>\n",
       "      <th>weekday</th>\n",
       "      <th>month_day</th>\n",
       "      <th>month</th>\n",
       "      <th>ended_at</th>\n",
       "      <th>rider_type</th>\n",
       "      <th>ride_length</th>\n",
       "      <th>season</th>\n",
       "      <th>time_of_day</th>\n",
       "    </tr>\n",
       "  </thead>\n",
       "  <tbody>\n",
       "    <tr>\n",
       "      <th>0</th>\n",
       "      <td>C2F7DD78E82EC875</td>\n",
       "      <td>electric_bike</td>\n",
       "      <td>2022-01-13 11:59:00</td>\n",
       "      <td>2022-01-13</td>\n",
       "      <td>11:59:47</td>\n",
       "      <td>12</td>\n",
       "      <td>Thursday</td>\n",
       "      <td>13</td>\n",
       "      <td>January</td>\n",
       "      <td>2022-01-13 12:02:00</td>\n",
       "      <td>casual</td>\n",
       "      <td>3</td>\n",
       "      <td>Winter</td>\n",
       "      <td>Afternoon</td>\n",
       "    </tr>\n",
       "    <tr>\n",
       "      <th>1</th>\n",
       "      <td>A6CF8980A652D272</td>\n",
       "      <td>electric_bike</td>\n",
       "      <td>2022-01-10 08:41:00</td>\n",
       "      <td>2022-01-10</td>\n",
       "      <td>8:41:56</td>\n",
       "      <td>9</td>\n",
       "      <td>Monday</td>\n",
       "      <td>10</td>\n",
       "      <td>January</td>\n",
       "      <td>2022-01-10 08:46:00</td>\n",
       "      <td>casual</td>\n",
       "      <td>4</td>\n",
       "      <td>Winter</td>\n",
       "      <td>Morning</td>\n",
       "    </tr>\n",
       "    <tr>\n",
       "      <th>2</th>\n",
       "      <td>BD0F91DFF741C66D</td>\n",
       "      <td>classic_bike</td>\n",
       "      <td>2022-01-25 04:53:00</td>\n",
       "      <td>2022-01-25</td>\n",
       "      <td>4:53:40</td>\n",
       "      <td>5</td>\n",
       "      <td>Tuesday</td>\n",
       "      <td>25</td>\n",
       "      <td>January</td>\n",
       "      <td>2022-01-25 04:58:00</td>\n",
       "      <td>member</td>\n",
       "      <td>4</td>\n",
       "      <td>Winter</td>\n",
       "      <td>Night</td>\n",
       "    </tr>\n",
       "    <tr>\n",
       "      <th>3</th>\n",
       "      <td>CBB80ED419105406</td>\n",
       "      <td>classic_bike</td>\n",
       "      <td>2022-01-04 00:18:00</td>\n",
       "      <td>2022-01-04</td>\n",
       "      <td>0:18:04</td>\n",
       "      <td>0</td>\n",
       "      <td>Tuesday</td>\n",
       "      <td>4</td>\n",
       "      <td>January</td>\n",
       "      <td>2022-01-04 00:33:00</td>\n",
       "      <td>casual</td>\n",
       "      <td>15</td>\n",
       "      <td>Winter</td>\n",
       "      <td>Night</td>\n",
       "    </tr>\n",
       "    <tr>\n",
       "      <th>4</th>\n",
       "      <td>DDC963BFDDA51EEA</td>\n",
       "      <td>classic_bike</td>\n",
       "      <td>2022-01-20 01:31:00</td>\n",
       "      <td>2022-01-20</td>\n",
       "      <td>1:31:10</td>\n",
       "      <td>2</td>\n",
       "      <td>Thursday</td>\n",
       "      <td>20</td>\n",
       "      <td>January</td>\n",
       "      <td>2022-01-20 01:37:00</td>\n",
       "      <td>member</td>\n",
       "      <td>6</td>\n",
       "      <td>Winter</td>\n",
       "      <td>Night</td>\n",
       "    </tr>\n",
       "  </tbody>\n",
       "</table>\n",
       "</div>"
      ],
      "text/plain": [
       "            ride_id      bike_type           started_at        date      time  \\\n",
       "0  C2F7DD78E82EC875  electric_bike  2022-01-13 11:59:00  2022-01-13  11:59:47   \n",
       "1  A6CF8980A652D272  electric_bike  2022-01-10 08:41:00  2022-01-10   8:41:56   \n",
       "2  BD0F91DFF741C66D   classic_bike  2022-01-25 04:53:00  2022-01-25   4:53:40   \n",
       "3  CBB80ED419105406   classic_bike  2022-01-04 00:18:00  2022-01-04   0:18:04   \n",
       "4  DDC963BFDDA51EEA   classic_bike  2022-01-20 01:31:00  2022-01-20   1:31:10   \n",
       "\n",
       "   hour   weekday  month_day    month             ended_at rider_type  \\\n",
       "0    12  Thursday         13  January  2022-01-13 12:02:00     casual   \n",
       "1     9    Monday         10  January  2022-01-10 08:46:00     casual   \n",
       "2     5   Tuesday         25  January  2022-01-25 04:58:00     member   \n",
       "3     0   Tuesday          4  January  2022-01-04 00:33:00     casual   \n",
       "4     2  Thursday         20  January  2022-01-20 01:37:00     member   \n",
       "\n",
       "   ride_length  season time_of_day  \n",
       "0            3  Winter   Afternoon  \n",
       "1            4  Winter     Morning  \n",
       "2            4  Winter       Night  \n",
       "3           15  Winter       Night  \n",
       "4            6  Winter       Night  "
      ]
     },
     "execution_count": 7,
     "metadata": {},
     "output_type": "execute_result"
    }
   ],
   "source": [
    "df.head()\n"
   ]
  },
  {
   "cell_type": "markdown",
   "id": "83ce6c5b",
   "metadata": {},
   "source": [
    "## EDA Process"
   ]
  },
  {
   "cell_type": "code",
   "execution_count": 3,
   "id": "c2c69943",
   "metadata": {
    "scrolled": true
   },
   "outputs": [
    {
     "name": "stdout",
     "output_type": "stream",
     "text": [
      "<class 'pandas.core.frame.DataFrame'>\n",
      "RangeIndex: 5596330 entries, 0 to 5596329\n",
      "Data columns (total 14 columns):\n",
      " #   Column       Dtype \n",
      "---  ------       ----- \n",
      " 0   ride_id      object\n",
      " 1   bike_type    object\n",
      " 2   started_at   object\n",
      " 3   date         object\n",
      " 4   time         object\n",
      " 5   hour         int64 \n",
      " 6   weekday      object\n",
      " 7   month_day    int64 \n",
      " 8   month        object\n",
      " 9   ended_at     object\n",
      " 10  rider_type   object\n",
      " 11  ride_length  int64 \n",
      " 12  season       object\n",
      " 13  time_of_day  object\n",
      "dtypes: int64(3), object(11)\n",
      "memory usage: 597.8+ MB\n"
     ]
    }
   ],
   "source": [
    "# Variable Identification...\n",
    "\n",
    "df.info()"
   ]
  },
  {
   "cell_type": "code",
   "execution_count": 143,
   "id": "91b580a0",
   "metadata": {},
   "outputs": [
    {
     "name": "stderr",
     "output_type": "stream",
     "text": [
      "C:\\Users\\meher\\AppData\\Local\\Temp\\ipykernel_14128\\3627053830.py:1: FutureWarning: Treating datetime data as categorical rather than numeric in `.describe` is deprecated and will be removed in a future version of pandas. Specify `datetime_is_numeric=True` to silence this warning and adopt the future behavior now.\n",
      "  df.describe()\n",
      "C:\\Users\\meher\\AppData\\Local\\Temp\\ipykernel_14128\\3627053830.py:1: FutureWarning: Treating datetime data as categorical rather than numeric in `.describe` is deprecated and will be removed in a future version of pandas. Specify `datetime_is_numeric=True` to silence this warning and adopt the future behavior now.\n",
      "  df.describe()\n",
      "C:\\Users\\meher\\AppData\\Local\\Temp\\ipykernel_14128\\3627053830.py:1: FutureWarning: Treating datetime data as categorical rather than numeric in `.describe` is deprecated and will be removed in a future version of pandas. Specify `datetime_is_numeric=True` to silence this warning and adopt the future behavior now.\n",
      "  df.describe()\n",
      "C:\\Users\\meher\\AppData\\Local\\Temp\\ipykernel_14128\\3627053830.py:1: FutureWarning: Treating datetime data as categorical rather than numeric in `.describe` is deprecated and will be removed in a future version of pandas. Specify `datetime_is_numeric=True` to silence this warning and adopt the future behavior now.\n",
      "  df.describe()\n",
      "C:\\Users\\meher\\AppData\\Local\\Temp\\ipykernel_14128\\3627053830.py:1: FutureWarning: Treating datetime data as categorical rather than numeric in `.describe` is deprecated and will be removed in a future version of pandas. Specify `datetime_is_numeric=True` to silence this warning and adopt the future behavior now.\n",
      "  df.describe()\n"
     ]
    },
    {
     "data": {
      "text/html": [
       "<div>\n",
       "<style scoped>\n",
       "    .dataframe tbody tr th:only-of-type {\n",
       "        vertical-align: middle;\n",
       "    }\n",
       "\n",
       "    .dataframe tbody tr th {\n",
       "        vertical-align: top;\n",
       "    }\n",
       "\n",
       "    .dataframe thead th {\n",
       "        text-align: right;\n",
       "    }\n",
       "</style>\n",
       "<table border=\"1\" class=\"dataframe\">\n",
       "  <thead>\n",
       "    <tr style=\"text-align: right;\">\n",
       "      <th></th>\n",
       "      <th>ride_id</th>\n",
       "      <th>bike_type</th>\n",
       "      <th>started_at</th>\n",
       "      <th>start_date</th>\n",
       "      <th>start_time</th>\n",
       "      <th>ended_at</th>\n",
       "      <th>end_date</th>\n",
       "      <th>end_time</th>\n",
       "      <th>day</th>\n",
       "      <th>month</th>\n",
       "      <th>rider_type</th>\n",
       "      <th>ride_length</th>\n",
       "    </tr>\n",
       "  </thead>\n",
       "  <tbody>\n",
       "    <tr>\n",
       "      <th>count</th>\n",
       "      <td>5667634</td>\n",
       "      <td>5667634</td>\n",
       "      <td>5667634</td>\n",
       "      <td>5667634</td>\n",
       "      <td>5667634</td>\n",
       "      <td>5667634</td>\n",
       "      <td>5667634</td>\n",
       "      <td>5667634</td>\n",
       "      <td>5667634</td>\n",
       "      <td>5667634</td>\n",
       "      <td>5667634</td>\n",
       "      <td>5667634</td>\n",
       "    </tr>\n",
       "    <tr>\n",
       "      <th>unique</th>\n",
       "      <td>5665696</td>\n",
       "      <td>3</td>\n",
       "      <td>456694</td>\n",
       "      <td>365</td>\n",
       "      <td>191131</td>\n",
       "      <td>457265</td>\n",
       "      <td>367</td>\n",
       "      <td>137867</td>\n",
       "      <td>7</td>\n",
       "      <td>12</td>\n",
       "      <td>2</td>\n",
       "      <td>7004</td>\n",
       "    </tr>\n",
       "    <tr>\n",
       "      <th>top</th>\n",
       "      <td>2.60E+15</td>\n",
       "      <td>electric_bike</td>\n",
       "      <td>2022-06-07 17:05:00</td>\n",
       "      <td>2022-07-09 00:00:00</td>\n",
       "      <td>2023-05-03 17:05:56</td>\n",
       "      <td>2022-05-30 17:24:00</td>\n",
       "      <td>2022-07-09 00:00:00</td>\n",
       "      <td>2023-05-03 17:27:14</td>\n",
       "      <td>Saturday</td>\n",
       "      <td>July</td>\n",
       "      <td>member</td>\n",
       "      <td>0:05:00</td>\n",
       "    </tr>\n",
       "    <tr>\n",
       "      <th>freq</th>\n",
       "      <td>10</td>\n",
       "      <td>2888971</td>\n",
       "      <td>102</td>\n",
       "      <td>36150</td>\n",
       "      <td>209</td>\n",
       "      <td>90</td>\n",
       "      <td>36043</td>\n",
       "      <td>202</td>\n",
       "      <td>916093</td>\n",
       "      <td>823473</td>\n",
       "      <td>3345648</td>\n",
       "      <td>357297</td>\n",
       "    </tr>\n",
       "    <tr>\n",
       "      <th>first</th>\n",
       "      <td>NaN</td>\n",
       "      <td>NaN</td>\n",
       "      <td>2022-01-01 00:00:00</td>\n",
       "      <td>2022-01-01 00:00:00</td>\n",
       "      <td>NaN</td>\n",
       "      <td>2022-01-01 00:01:00</td>\n",
       "      <td>2022-01-01 00:00:00</td>\n",
       "      <td>2023-05-03 00:00:00</td>\n",
       "      <td>NaN</td>\n",
       "      <td>NaN</td>\n",
       "      <td>NaN</td>\n",
       "      <td>NaN</td>\n",
       "    </tr>\n",
       "    <tr>\n",
       "      <th>last</th>\n",
       "      <td>NaN</td>\n",
       "      <td>NaN</td>\n",
       "      <td>2022-12-31 23:59:00</td>\n",
       "      <td>2022-12-31 00:00:00</td>\n",
       "      <td>NaN</td>\n",
       "      <td>2023-01-02 04:56:00</td>\n",
       "      <td>2023-01-02 00:00:00</td>\n",
       "      <td>2023-05-04 23:59:58</td>\n",
       "      <td>NaN</td>\n",
       "      <td>NaN</td>\n",
       "      <td>NaN</td>\n",
       "      <td>NaN</td>\n",
       "    </tr>\n",
       "  </tbody>\n",
       "</table>\n",
       "</div>"
      ],
      "text/plain": [
       "         ride_id      bike_type           started_at           start_date  \\\n",
       "count    5667634        5667634              5667634              5667634   \n",
       "unique   5665696              3               456694                  365   \n",
       "top     2.60E+15  electric_bike  2022-06-07 17:05:00  2022-07-09 00:00:00   \n",
       "freq          10        2888971                  102                36150   \n",
       "first        NaN            NaN  2022-01-01 00:00:00  2022-01-01 00:00:00   \n",
       "last         NaN            NaN  2022-12-31 23:59:00  2022-12-31 00:00:00   \n",
       "\n",
       "                 start_time             ended_at             end_date  \\\n",
       "count               5667634              5667634              5667634   \n",
       "unique               191131               457265                  367   \n",
       "top     2023-05-03 17:05:56  2022-05-30 17:24:00  2022-07-09 00:00:00   \n",
       "freq                    209                   90                36043   \n",
       "first                   NaN  2022-01-01 00:01:00  2022-01-01 00:00:00   \n",
       "last                    NaN  2023-01-02 04:56:00  2023-01-02 00:00:00   \n",
       "\n",
       "                   end_time       day    month rider_type ride_length  \n",
       "count               5667634   5667634  5667634    5667634     5667634  \n",
       "unique               137867         7       12          2        7004  \n",
       "top     2023-05-03 17:27:14  Saturday     July     member     0:05:00  \n",
       "freq                    202    916093   823473    3345648      357297  \n",
       "first   2023-05-03 00:00:00       NaN      NaN        NaN         NaN  \n",
       "last    2023-05-04 23:59:58       NaN      NaN        NaN         NaN  "
      ]
     },
     "execution_count": 143,
     "metadata": {},
     "output_type": "execute_result"
    }
   ],
   "source": [
    "# Descriptive statistics of the DataFrame are obtained using '.describe()'\n",
    "\n",
    "df.describe()"
   ]
  },
  {
   "cell_type": "code",
   "execution_count": 142,
   "id": "77f0234e",
   "metadata": {},
   "outputs": [
    {
     "data": {
      "text/plain": [
       "ride_id        5665696\n",
       "bike_type            3\n",
       "started_at      456694\n",
       "start_date         365\n",
       "start_time      191131\n",
       "ended_at        457265\n",
       "end_date           367\n",
       "end_time        137867\n",
       "day                  7\n",
       "month               12\n",
       "rider_type           2\n",
       "ride_length       7004\n",
       "dtype: int64"
      ]
     },
     "execution_count": 142,
     "metadata": {},
     "output_type": "execute_result"
    }
   ],
   "source": [
    "# The number of unique (distinct) values in each column is calculated using '.nunique()'\n",
    "\n",
    "df.nunique()"
   ]
  },
  {
   "cell_type": "markdown",
   "id": "96c7069f",
   "metadata": {},
   "source": [
    "Missing Values Analysis"
   ]
  },
  {
   "cell_type": "code",
   "execution_count": 141,
   "id": "9efcf2b8",
   "metadata": {},
   "outputs": [
    {
     "data": {
      "text/plain": [
       "ride_id        0\n",
       "bike_type      0\n",
       "started_at     0\n",
       "start_date     0\n",
       "start_time     0\n",
       "ended_at       0\n",
       "end_date       0\n",
       "end_time       0\n",
       "day            0\n",
       "month          0\n",
       "rider_type     0\n",
       "ride_length    0\n",
       "dtype: int64"
      ]
     },
     "execution_count": 141,
     "metadata": {},
     "output_type": "execute_result"
    }
   ],
   "source": [
    "#  Check missing values count\n",
    "\n",
    "df.isnull().sum()"
   ]
  },
  {
   "cell_type": "code",
   "execution_count": 62,
   "id": "2f5ef13a",
   "metadata": {},
   "outputs": [
    {
     "data": {
      "text/plain": [
       "0"
      ]
     },
     "execution_count": 62,
     "metadata": {},
     "output_type": "execute_result"
    }
   ],
   "source": [
    "#  Check missing values count\n",
    "\n",
    "df.duplicated().sum()"
   ]
  },
  {
   "cell_type": "code",
   "execution_count": 49,
   "id": "f99221e6",
   "metadata": {},
   "outputs": [
    {
     "data": {
      "text/plain": [
       "(5596330, 14)"
      ]
     },
     "execution_count": 49,
     "metadata": {},
     "output_type": "execute_result"
    }
   ],
   "source": [
    "# clean the data\n",
    "\n",
    "## remove rows with NA values\n",
    "df.dropna(inplace=True)\n",
    "\n",
    "## remove duplicate rows\n",
    "df.drop_duplicates(inplace=True)\n",
    "\n",
    "## remove where ride_length is 0 or negative\n",
    "df = df[df['ride_length'] > 0]\n",
    "\n",
    "df.shape"
   ]
  },
  {
   "cell_type": "code",
   "execution_count": 178,
   "id": "386faeb1",
   "metadata": {},
   "outputs": [
    {
     "name": "stderr",
     "output_type": "stream",
     "text": [
      "C:\\Users\\meher\\AppData\\Local\\Temp\\ipykernel_11112\\2980262745.py:2: SettingWithCopyWarning: \n",
      "A value is trying to be set on a copy of a slice from a DataFrame\n",
      "\n",
      "See the caveats in the documentation: https://pandas.pydata.org/pandas-docs/stable/user_guide/indexing.html#returning-a-view-versus-a-copy\n",
      "  df.drop(columns=['month_day'], inplace=True) # remove columns not needed\n"
     ]
    }
   ],
   "source": [
    "# remove columns that are not needed.....\n",
    "\n",
    "df.drop(columns=['end_date', 'end_time'], inplace=True) "
   ]
  },
  {
   "cell_type": "code",
   "execution_count": 4,
   "id": "4ebc5eac",
   "metadata": {},
   "outputs": [
    {
     "name": "stdout",
     "output_type": "stream",
     "text": [
      "Mean: 19.694022868558502, Standard Deviation: 177.18034461388237\n"
     ]
    }
   ],
   "source": [
    "#  Summary Statistics\n",
    "\n",
    "#  Calculate mean and standard deviation\n",
    "\n",
    "mean = df['ride_length'].mean()\n",
    "std = df['ride_length'].std()\n",
    "\n",
    "print(f\"Mean: {mean}, Standard Deviation: {std}\")\n"
   ]
  },
  {
   "cell_type": "markdown",
   "id": "ed4766d3",
   "metadata": {},
   "source": [
    "Univariate Analysis"
   ]
  },
  {
   "cell_type": "code",
   "execution_count": 23,
   "id": "1e4854b5",
   "metadata": {
    "scrolled": true
   },
   "outputs": [
    {
     "data": {
      "image/png": "[encoded data removed]",
      "text/plain": [
       "<Figure size 640x480 with 1 Axes>"
      ]
     },
     "metadata": {},
     "output_type": "display_data"
    }
   ],
   "source": [
    "# Example: Bar plot for a categorical variable 'time_of_day'\n",
    "df['time_of_day'].value_counts().plot(kind='bar', color = 'purple')\n",
    "plt.xlabel('Time_of_day')\n",
    "plt.ylabel('Rides')\n",
    "plt.title('Rides count by Time of day')\n",
    "plt.show()"
   ]
  },
  {
   "cell_type": "code",
   "execution_count": 5,
   "id": "9402f901",
   "metadata": {},
   "outputs": [
    {
     "data": {
      "image/png": "[encoded data removed]",
      "text/plain": [
       "<Figure size 640x480 with 1 Axes>"
      ]
     },
     "metadata": {},
     "output_type": "display_data"
    }
   ],
   "source": [
    "# Example: Bar plot for a categorical variable 'weekday'\n",
    "df['weekday'].value_counts().plot(kind='bar')\n",
    "plt.xlabel('Weekdays')\n",
    "plt.ylabel('Rides')\n",
    "plt.title('Rides by Weekdays')\n",
    "plt.show()"
   ]
  },
  {
   "cell_type": "code",
   "execution_count": 18,
   "id": "add264f8",
   "metadata": {},
   "outputs": [
    {
     "data": {
      "image/png": "[encoded data removed]",
      "text/plain": [
       "<Figure size 640x480 with 1 Axes>"
      ]
     },
     "metadata": {},
     "output_type": "display_data"
    }
   ],
   "source": [
    "#  Bar plot for a categorical variable 'Season'\n",
    "df['season'].value_counts().plot(kind='bar', color = '#96f2ee')\n",
    "plt.xlabel('Season')\n",
    "plt.ylabel('Rides')\n",
    "plt.title('Season Rides')\n",
    "plt.show()"
   ]
  },
  {
   "cell_type": "code",
   "execution_count": 10,
   "id": "73bb0c4c",
   "metadata": {},
   "outputs": [
    {
     "data": {
      "image/png": "[encoded data removed]",
      "text/plain": [
       "<Figure size 640x480 with 1 Axes>"
      ]
     },
     "metadata": {},
     "output_type": "display_data"
    }
   ],
   "source": [
    "# Bar plot for a categorical variable 'month'\n",
    "\n",
    "df['month'].value_counts().plot(kind='bar', color = 'y')\n",
    "plt.xlabel('months')\n",
    "plt.ylabel('Rides')\n",
    "plt.title('Rides by Months')\n",
    "plt.show()"
   ]
  },
  {
   "cell_type": "code",
   "execution_count": 21,
   "id": "de4aaef7",
   "metadata": {},
   "outputs": [
    {
     "data": {
      "image/png": "[encoded data removed]",
      "text/plain": [
       "<Figure size 640x480 with 1 Axes>"
      ]
     },
     "metadata": {},
     "output_type": "display_data"
    }
   ],
   "source": [
    "# Example: Pie chart for a categorical variable 'rider_type'\n",
    "\n",
    "df['rider_type'].value_counts().plot(kind='pie', autopct='%1.1f%%')\n",
    "plt.title('Rides Count by Ride Type')\n",
    "plt.show()"
   ]
  },
  {
   "cell_type": "code",
   "execution_count": null,
   "id": "b840af81",
   "metadata": {},
   "outputs": [],
   "source": []
  },
  {
   "cell_type": "code",
   "execution_count": 8,
   "id": "c3a7c949",
   "metadata": {},
   "outputs": [],
   "source": [
    "#  Creating final data by copying as 'final_data' from previous data (df)...\n",
    "\n",
    "final_data = df.copy()"
   ]
  },
  {
   "cell_type": "code",
   "execution_count": 9,
   "id": "15813754",
   "metadata": {},
   "outputs": [],
   "source": [
    "# clean the data\n",
    "final_data.drop(columns=['time', 'started_at', 'ended_at'], inplace=True) # remove columns not needed"
   ]
  },
  {
   "cell_type": "code",
   "execution_count": 12,
   "id": "faa5797e",
   "metadata": {},
   "outputs": [
    {
     "data": {
      "text/html": [
       "<div>\n",
       "<style scoped>\n",
       "    .dataframe tbody tr th:only-of-type {\n",
       "        vertical-align: middle;\n",
       "    }\n",
       "\n",
       "    .dataframe tbody tr th {\n",
       "        vertical-align: top;\n",
       "    }\n",
       "\n",
       "    .dataframe thead th {\n",
       "        text-align: right;\n",
       "    }\n",
       "</style>\n",
       "<table border=\"1\" class=\"dataframe\">\n",
       "  <thead>\n",
       "    <tr style=\"text-align: right;\">\n",
       "      <th></th>\n",
       "      <th>ride_id</th>\n",
       "      <th>bike_type</th>\n",
       "      <th>date</th>\n",
       "      <th>hour</th>\n",
       "      <th>weekday</th>\n",
       "      <th>month_day</th>\n",
       "      <th>month</th>\n",
       "      <th>rider_type</th>\n",
       "      <th>ride_length</th>\n",
       "      <th>season</th>\n",
       "      <th>time_of_day</th>\n",
       "    </tr>\n",
       "  </thead>\n",
       "  <tbody>\n",
       "    <tr>\n",
       "      <th>0</th>\n",
       "      <td>C2F7DD78E82EC875</td>\n",
       "      <td>electric_bike</td>\n",
       "      <td>2022-01-13</td>\n",
       "      <td>12</td>\n",
       "      <td>Thursday</td>\n",
       "      <td>13</td>\n",
       "      <td>January</td>\n",
       "      <td>casual</td>\n",
       "      <td>3</td>\n",
       "      <td>Winter</td>\n",
       "      <td>Afternoon</td>\n",
       "    </tr>\n",
       "    <tr>\n",
       "      <th>1</th>\n",
       "      <td>A6CF8980A652D272</td>\n",
       "      <td>electric_bike</td>\n",
       "      <td>2022-01-10</td>\n",
       "      <td>9</td>\n",
       "      <td>Monday</td>\n",
       "      <td>10</td>\n",
       "      <td>January</td>\n",
       "      <td>casual</td>\n",
       "      <td>4</td>\n",
       "      <td>Winter</td>\n",
       "      <td>Morning</td>\n",
       "    </tr>\n",
       "    <tr>\n",
       "      <th>2</th>\n",
       "      <td>BD0F91DFF741C66D</td>\n",
       "      <td>classic_bike</td>\n",
       "      <td>2022-01-25</td>\n",
       "      <td>5</td>\n",
       "      <td>Tuesday</td>\n",
       "      <td>25</td>\n",
       "      <td>January</td>\n",
       "      <td>member</td>\n",
       "      <td>4</td>\n",
       "      <td>Winter</td>\n",
       "      <td>Night</td>\n",
       "    </tr>\n",
       "    <tr>\n",
       "      <th>3</th>\n",
       "      <td>CBB80ED419105406</td>\n",
       "      <td>classic_bike</td>\n",
       "      <td>2022-01-04</td>\n",
       "      <td>0</td>\n",
       "      <td>Tuesday</td>\n",
       "      <td>4</td>\n",
       "      <td>January</td>\n",
       "      <td>casual</td>\n",
       "      <td>15</td>\n",
       "      <td>Winter</td>\n",
       "      <td>Night</td>\n",
       "    </tr>\n",
       "    <tr>\n",
       "      <th>4</th>\n",
       "      <td>DDC963BFDDA51EEA</td>\n",
       "      <td>classic_bike</td>\n",
       "      <td>2022-01-20</td>\n",
       "      <td>2</td>\n",
       "      <td>Thursday</td>\n",
       "      <td>20</td>\n",
       "      <td>January</td>\n",
       "      <td>member</td>\n",
       "      <td>6</td>\n",
       "      <td>Winter</td>\n",
       "      <td>Night</td>\n",
       "    </tr>\n",
       "    <tr>\n",
       "      <th>...</th>\n",
       "      <td>...</td>\n",
       "      <td>...</td>\n",
       "      <td>...</td>\n",
       "      <td>...</td>\n",
       "      <td>...</td>\n",
       "      <td>...</td>\n",
       "      <td>...</td>\n",
       "      <td>...</td>\n",
       "      <td>...</td>\n",
       "      <td>...</td>\n",
       "      <td>...</td>\n",
       "    </tr>\n",
       "    <tr>\n",
       "      <th>5596325</th>\n",
       "      <td>4FEE15DACFA74B1A</td>\n",
       "      <td>electric_bike</td>\n",
       "      <td>2022-12-02</td>\n",
       "      <td>13</td>\n",
       "      <td>Friday</td>\n",
       "      <td>2</td>\n",
       "      <td>December</td>\n",
       "      <td>member</td>\n",
       "      <td>1</td>\n",
       "      <td>Winter</td>\n",
       "      <td>Afternoon</td>\n",
       "    </tr>\n",
       "    <tr>\n",
       "      <th>5596326</th>\n",
       "      <td>0D89C00047A9F983</td>\n",
       "      <td>electric_bike</td>\n",
       "      <td>2022-12-07</td>\n",
       "      <td>10</td>\n",
       "      <td>Wednesday</td>\n",
       "      <td>7</td>\n",
       "      <td>December</td>\n",
       "      <td>member</td>\n",
       "      <td>1</td>\n",
       "      <td>Winter</td>\n",
       "      <td>Morning</td>\n",
       "    </tr>\n",
       "    <tr>\n",
       "      <th>5596327</th>\n",
       "      <td>D259991D3C31A477</td>\n",
       "      <td>classic_bike</td>\n",
       "      <td>2022-12-30</td>\n",
       "      <td>14</td>\n",
       "      <td>Friday</td>\n",
       "      <td>30</td>\n",
       "      <td>December</td>\n",
       "      <td>member</td>\n",
       "      <td>1</td>\n",
       "      <td>Winter</td>\n",
       "      <td>Afternoon</td>\n",
       "    </tr>\n",
       "    <tr>\n",
       "      <th>5596328</th>\n",
       "      <td>0310B8FDC76C0764</td>\n",
       "      <td>classic_bike</td>\n",
       "      <td>2022-12-10</td>\n",
       "      <td>21</td>\n",
       "      <td>Saturday</td>\n",
       "      <td>10</td>\n",
       "      <td>December</td>\n",
       "      <td>member</td>\n",
       "      <td>1</td>\n",
       "      <td>Winter</td>\n",
       "      <td>Evening</td>\n",
       "    </tr>\n",
       "    <tr>\n",
       "      <th>5596329</th>\n",
       "      <td>AF4D862D573A193F</td>\n",
       "      <td>electric_bike</td>\n",
       "      <td>2022-12-08</td>\n",
       "      <td>7</td>\n",
       "      <td>Thursday</td>\n",
       "      <td>8</td>\n",
       "      <td>December</td>\n",
       "      <td>member</td>\n",
       "      <td>1</td>\n",
       "      <td>Winter</td>\n",
       "      <td>Morning</td>\n",
       "    </tr>\n",
       "  </tbody>\n",
       "</table>\n",
       "<p>5596330 rows × 11 columns</p>\n",
       "</div>"
      ],
      "text/plain": [
       "                  ride_id      bike_type        date  hour    weekday  \\\n",
       "0        C2F7DD78E82EC875  electric_bike  2022-01-13    12   Thursday   \n",
       "1        A6CF8980A652D272  electric_bike  2022-01-10     9     Monday   \n",
       "2        BD0F91DFF741C66D   classic_bike  2022-01-25     5    Tuesday   \n",
       "3        CBB80ED419105406   classic_bike  2022-01-04     0    Tuesday   \n",
       "4        DDC963BFDDA51EEA   classic_bike  2022-01-20     2   Thursday   \n",
       "...                   ...            ...         ...   ...        ...   \n",
       "5596325  4FEE15DACFA74B1A  electric_bike  2022-12-02    13     Friday   \n",
       "5596326  0D89C00047A9F983  electric_bike  2022-12-07    10  Wednesday   \n",
       "5596327  D259991D3C31A477   classic_bike  2022-12-30    14     Friday   \n",
       "5596328  0310B8FDC76C0764   classic_bike  2022-12-10    21   Saturday   \n",
       "5596329  AF4D862D573A193F  electric_bike  2022-12-08     7   Thursday   \n",
       "\n",
       "         month_day     month rider_type  ride_length  season time_of_day  \n",
       "0               13   January     casual            3  Winter   Afternoon  \n",
       "1               10   January     casual            4  Winter     Morning  \n",
       "2               25   January     member            4  Winter       Night  \n",
       "3                4   January     casual           15  Winter       Night  \n",
       "4               20   January     member            6  Winter       Night  \n",
       "...            ...       ...        ...          ...     ...         ...  \n",
       "5596325          2  December     member            1  Winter   Afternoon  \n",
       "5596326          7  December     member            1  Winter     Morning  \n",
       "5596327         30  December     member            1  Winter   Afternoon  \n",
       "5596328         10  December     member            1  Winter     Evening  \n",
       "5596329          8  December     member            1  Winter     Morning  \n",
       "\n",
       "[5596330 rows x 11 columns]"
      ]
     },
     "execution_count": 12,
     "metadata": {},
     "output_type": "execute_result"
    }
   ],
   "source": [
    "final_data"
   ]
  },
  {
   "cell_type": "code",
   "execution_count": 11,
   "id": "f27893a1",
   "metadata": {},
   "outputs": [],
   "source": [
    "# Saving tha data into csv format for work...\n",
    "\n",
    "final_data.to_csv('cyclistic_trips2022.csv', index=False)"
   ]
  },
  {
   "cell_type": "markdown",
   "id": "d870c606",
   "metadata": {},
   "source": [
    "# Analysis Process"
   ]
  },
  {
   "cell_type": "code",
   "execution_count": 13,
   "id": "57673893",
   "metadata": {},
   "outputs": [
    {
     "data": {
      "text/plain": [
       "5596330"
      ]
     },
     "execution_count": 13,
     "metadata": {},
     "output_type": "execute_result"
    }
   ],
   "source": [
    "#----------------------------------TOTAL RIDES-----------------------------------\n",
    "\n",
    "# Total number of rides\n",
    "\n",
    "final_data.shape[0]"
   ]
  },
  {
   "cell_type": "code",
   "execution_count": 56,
   "id": "1436b644",
   "metadata": {},
   "outputs": [
    {
     "data": {
      "text/plain": [
       "rider_type\n",
       "casual    2294098\n",
       "member    3302232\n",
       "dtype: int64"
      ]
     },
     "execution_count": 56,
     "metadata": {},
     "output_type": "execute_result"
    }
   ],
   "source": [
    "#--------------------------------MEMBER TYPE---------------------------------------\n",
    "\n",
    "# Total rides by member type\n",
    "final_data.groupby('rider_type').size()\n"
   ]
  },
  {
   "cell_type": "code",
   "execution_count": 15,
   "id": "a3f463f2",
   "metadata": {},
   "outputs": [
    {
     "data": {
      "text/plain": [
       "bike_type\n",
       "classic_bike     2578036\n",
       "docked_bike       176570\n",
       "electric_bike    2841724\n",
       "dtype: int64"
      ]
     },
     "execution_count": 15,
     "metadata": {},
     "output_type": "execute_result"
    }
   ],
   "source": [
    "# Total rides by bike type\n",
    "final_data.groupby('bike_type').size()"
   ]
  },
  {
   "cell_type": "code",
   "execution_count": 16,
   "id": "3c8de629",
   "metadata": {},
   "outputs": [
    {
     "data": {
      "text/plain": [
       "rider_type  bike_type    \n",
       "casual      classic_bike      884228\n",
       "            docked_bike       176570\n",
       "            electric_bike    1233300\n",
       "member      classic_bike     1693808\n",
       "            electric_bike    1608424\n",
       "dtype: int64"
      ]
     },
     "execution_count": 16,
     "metadata": {},
     "output_type": "execute_result"
    }
   ],
   "source": [
    "\n",
    "# Total rides by member type and bike type\n",
    "final_data.groupby(['rider_type', 'bike_type']).size()"
   ]
  },
  {
   "cell_type": "code",
   "execution_count": 57,
   "id": "5cf3879a",
   "metadata": {},
   "outputs": [
    {
     "data": {
      "image/png": "[encoded data removed]",
      "text/plain": [
       "<Figure size 1200x600 with 1 Axes>"
      ]
     },
     "metadata": {},
     "output_type": "display_data"
    }
   ],
   "source": [
    "# Visualize total rides by rider type and bike type\n",
    "plt.figure(figsize=(12,6))\n",
    "sns.countplot(data=final_data, x='rider_type', hue='bike_type')\n",
    "plt.title('Total Rides by Member Type and Bike Type')\n",
    "plt.xlabel('Rider Type')\n",
    "plt.ylabel('Number of Rides')\n",
    "plt.legend(title='Bike Type')\n",
    "plt.show()"
   ]
  },
  {
   "cell_type": "code",
   "execution_count": 17,
   "id": "e299aeb5",
   "metadata": {},
   "outputs": [
    {
     "data": {
      "text/html": [
       "<div>\n",
       "<style scoped>\n",
       "    .dataframe tbody tr th:only-of-type {\n",
       "        vertical-align: middle;\n",
       "    }\n",
       "\n",
       "    .dataframe tbody tr th {\n",
       "        vertical-align: top;\n",
       "    }\n",
       "\n",
       "    .dataframe thead th {\n",
       "        text-align: right;\n",
       "    }\n",
       "</style>\n",
       "<table border=\"1\" class=\"dataframe\">\n",
       "  <thead>\n",
       "    <tr style=\"text-align: right;\">\n",
       "      <th>hour</th>\n",
       "      <th>0</th>\n",
       "      <th>1</th>\n",
       "      <th>2</th>\n",
       "      <th>3</th>\n",
       "      <th>4</th>\n",
       "      <th>5</th>\n",
       "      <th>6</th>\n",
       "      <th>7</th>\n",
       "      <th>8</th>\n",
       "      <th>9</th>\n",
       "      <th>...</th>\n",
       "      <th>14</th>\n",
       "      <th>15</th>\n",
       "      <th>16</th>\n",
       "      <th>17</th>\n",
       "      <th>18</th>\n",
       "      <th>19</th>\n",
       "      <th>20</th>\n",
       "      <th>21</th>\n",
       "      <th>22</th>\n",
       "      <th>23</th>\n",
       "    </tr>\n",
       "  </thead>\n",
       "  <tbody>\n",
       "    <tr>\n",
       "      <th>0</th>\n",
       "      <td>100918</td>\n",
       "      <td>61497</td>\n",
       "      <td>42159</td>\n",
       "      <td>23104</td>\n",
       "      <td>16502</td>\n",
       "      <td>22214</td>\n",
       "      <td>77570</td>\n",
       "      <td>165485</td>\n",
       "      <td>267509</td>\n",
       "      <td>238196</td>\n",
       "      <td>...</td>\n",
       "      <td>340973</td>\n",
       "      <td>357237</td>\n",
       "      <td>443029</td>\n",
       "      <td>536185</td>\n",
       "      <td>532133</td>\n",
       "      <td>408634</td>\n",
       "      <td>300685</td>\n",
       "      <td>221611</td>\n",
       "      <td>192786</td>\n",
       "      <td>142865</td>\n",
       "    </tr>\n",
       "  </tbody>\n",
       "</table>\n",
       "<p>1 rows × 24 columns</p>\n",
       "</div>"
      ],
      "text/plain": [
       "hour      0      1      2      3      4      5      6       7       8   \\\n",
       "0     100918  61497  42159  23104  16502  22214  77570  165485  267509   \n",
       "\n",
       "hour      9   ...      14      15      16      17      18      19      20  \\\n",
       "0     238196  ...  340973  357237  443029  536185  532133  408634  300685   \n",
       "\n",
       "hour      21      22      23  \n",
       "0     221611  192786  142865  \n",
       "\n",
       "[1 rows x 24 columns]"
      ]
     },
     "execution_count": 17,
     "metadata": {},
     "output_type": "execute_result"
    }
   ],
   "source": [
    "#-----------------------------------HOUR--------------------------------------------\n",
    "\n",
    "# Total rides by hour\n",
    "final_data.groupby('hour').size().to_frame().T"
   ]
  },
  {
   "cell_type": "code",
   "execution_count": 18,
   "id": "024f0134",
   "metadata": {},
   "outputs": [
    {
     "data": {
      "text/plain": [
       "rider_type  hour\n",
       "casual      0        54915\n",
       "            1        35095\n",
       "            2        24868\n",
       "            3        13527\n",
       "            4         8982\n",
       "            5         7866\n",
       "            6        18806\n",
       "            7        38852\n",
       "            8        64415\n",
       "            9        67609\n",
       "            10       81941\n",
       "            11      103613\n",
       "            12      137243\n",
       "            13      143211\n",
       "            14      155696\n",
       "            15      163748\n",
       "            16      188887\n",
       "            17      207787\n",
       "            18      212023\n",
       "            19      170981\n",
       "            20      129392\n",
       "            21       97889\n",
       "            22       92518\n",
       "            23       74234\n",
       "member      0        46003\n",
       "            1        26402\n",
       "            2        17291\n",
       "            3         9577\n",
       "            4         7520\n",
       "            5        14348\n",
       "            6        58764\n",
       "            7       126633\n",
       "            8       203094\n",
       "            9       170587\n",
       "            10      134676\n",
       "            11      140957\n",
       "            12      183033\n",
       "            13      180364\n",
       "            14      185277\n",
       "            15      193489\n",
       "            16      254142\n",
       "            17      328398\n",
       "            18      320110\n",
       "            19      237653\n",
       "            20      171293\n",
       "            21      123722\n",
       "            22      100268\n",
       "            23       68631\n",
       "dtype: int64"
      ]
     },
     "execution_count": 18,
     "metadata": {},
     "output_type": "execute_result"
    }
   ],
   "source": [
    "\n",
    "# Total rides by member type and hour\n",
    "final_data.groupby(['rider_type', 'hour']).size()"
   ]
  },
  {
   "cell_type": "code",
   "execution_count": 19,
   "id": "7865eabf",
   "metadata": {},
   "outputs": [
    {
     "data": {
      "text/plain": [
       "rider_type\n",
       "casual    375236\n",
       "member    834711\n",
       "Name: time_of_day, dtype: int64"
      ]
     },
     "execution_count": 19,
     "metadata": {},
     "output_type": "execute_result"
    }
   ],
   "source": [
    "#-----------------------------------TIME OF DAY-------------------------------------\n",
    "\n",
    "# Morning\n",
    "final_data.loc[final_data['time_of_day'] == 'Morning'].groupby('rider_type')['time_of_day'].size()"
   ]
  },
  {
   "cell_type": "code",
   "execution_count": 20,
   "id": "7e08fd93",
   "metadata": {},
   "outputs": [
    {
     "data": {
      "text/plain": [
       "rider_type\n",
       "casual     996572\n",
       "member    1324703\n",
       "Name: time_of_day, dtype: int64"
      ]
     },
     "execution_count": 20,
     "metadata": {},
     "output_type": "execute_result"
    }
   ],
   "source": [
    "# Afternoon\n",
    "final_data.loc[final_data['time_of_day'] == 'Afternoon'].groupby('rider_type')['time_of_day'].size()"
   ]
  },
  {
   "cell_type": "code",
   "execution_count": 21,
   "id": "91acaca5",
   "metadata": {},
   "outputs": [
    {
     "data": {
      "text/plain": [
       "rider_type\n",
       "casual     777037\n",
       "member    1021677\n",
       "Name: time_of_day, dtype: int64"
      ]
     },
     "execution_count": 21,
     "metadata": {},
     "output_type": "execute_result"
    }
   ],
   "source": [
    "# Evening\n",
    "final_data.loc[final_data['time_of_day'] == 'Evening'].groupby('rider_type')['time_of_day'].size()"
   ]
  },
  {
   "cell_type": "code",
   "execution_count": 22,
   "id": "5fda83c8",
   "metadata": {},
   "outputs": [
    {
     "data": {
      "text/plain": [
       "rider_type\n",
       "casual    145253\n",
       "member    121141\n",
       "Name: time_of_day, dtype: int64"
      ]
     },
     "execution_count": 22,
     "metadata": {},
     "output_type": "execute_result"
    }
   ],
   "source": [
    "# Night\n",
    "final_data.loc[final_data['time_of_day'] == 'Night'].groupby('rider_type')['time_of_day'].size()\n"
   ]
  },
  {
   "cell_type": "code",
   "execution_count": 72,
   "id": "95ddb936",
   "metadata": {
    "scrolled": true
   },
   "outputs": [
    {
     "data": {
      "text/html": [
       "<div>\n",
       "<style scoped>\n",
       "    .dataframe tbody tr th:only-of-type {\n",
       "        vertical-align: middle;\n",
       "    }\n",
       "\n",
       "    .dataframe tbody tr th {\n",
       "        vertical-align: top;\n",
       "    }\n",
       "\n",
       "    .dataframe thead tr th {\n",
       "        text-align: left;\n",
       "    }\n",
       "</style>\n",
       "<table border=\"1\" class=\"dataframe\">\n",
       "  <thead>\n",
       "    <tr>\n",
       "      <th>rider_type</th>\n",
       "      <th colspan=\"4\" halign=\"left\">casual</th>\n",
       "      <th colspan=\"4\" halign=\"left\">member</th>\n",
       "    </tr>\n",
       "    <tr>\n",
       "      <th>time_of_day</th>\n",
       "      <th>Afternoon</th>\n",
       "      <th>Evening</th>\n",
       "      <th>Morning</th>\n",
       "      <th>Night</th>\n",
       "      <th>Afternoon</th>\n",
       "      <th>Evening</th>\n",
       "      <th>Morning</th>\n",
       "      <th>Night</th>\n",
       "    </tr>\n",
       "  </thead>\n",
       "  <tbody>\n",
       "    <tr>\n",
       "      <th>0</th>\n",
       "      <td>996572</td>\n",
       "      <td>777037</td>\n",
       "      <td>375236</td>\n",
       "      <td>145253</td>\n",
       "      <td>1324703</td>\n",
       "      <td>1021677</td>\n",
       "      <td>834711</td>\n",
       "      <td>121141</td>\n",
       "    </tr>\n",
       "  </tbody>\n",
       "</table>\n",
       "</div>"
      ],
      "text/plain": [
       "rider_type     casual                            member                   \\\n",
       "time_of_day Afternoon Evening Morning   Night Afternoon  Evening Morning   \n",
       "0              996572  777037  375236  145253   1324703  1021677  834711   \n",
       "\n",
       "rider_type           \n",
       "time_of_day   Night  \n",
       "0            121141  "
      ]
     },
     "execution_count": 72,
     "metadata": {},
     "output_type": "execute_result"
    }
   ],
   "source": [
    "\n",
    "# All times of day\n",
    "tod_rides = final_data.groupby(['rider_type', 'time_of_day']).size().to_frame().T\n",
    "\n",
    "tod_rides"
   ]
  },
  {
   "cell_type": "code",
   "execution_count": 73,
   "id": "23fc669f",
   "metadata": {},
   "outputs": [
    {
     "data": {
      "text/html": [
       "<div>\n",
       "<style scoped>\n",
       "    .dataframe tbody tr th:only-of-type {\n",
       "        vertical-align: middle;\n",
       "    }\n",
       "\n",
       "    .dataframe tbody tr th {\n",
       "        vertical-align: top;\n",
       "    }\n",
       "\n",
       "    .dataframe thead th {\n",
       "        text-align: right;\n",
       "    }\n",
       "</style>\n",
       "<table border=\"1\" class=\"dataframe\">\n",
       "  <thead>\n",
       "    <tr style=\"text-align: right;\">\n",
       "      <th>time_of_day</th>\n",
       "      <th>Afternoon</th>\n",
       "      <th>Evening</th>\n",
       "      <th>Morning</th>\n",
       "      <th>Night</th>\n",
       "    </tr>\n",
       "  </thead>\n",
       "  <tbody>\n",
       "    <tr>\n",
       "      <th>0</th>\n",
       "      <td>2321275</td>\n",
       "      <td>1798714</td>\n",
       "      <td>1209947</td>\n",
       "      <td>266394</td>\n",
       "    </tr>\n",
       "  </tbody>\n",
       "</table>\n",
       "</div>"
      ],
      "text/plain": [
       "time_of_day  Afternoon  Evening  Morning   Night\n",
       "0              2321275  1798714  1209947  266394"
      ]
     },
     "execution_count": 73,
     "metadata": {},
     "output_type": "execute_result"
    }
   ],
   "source": [
    "final_data.groupby(['time_of_day']).size().to_frame().T"
   ]
  },
  {
   "cell_type": "code",
   "execution_count": 76,
   "id": "73fc839b",
   "metadata": {},
   "outputs": [],
   "source": [
    "# Visualize total rides by time of day and member type\n",
    "# plt.figure(figsize=(12,6))\n",
    "# sns.barplot(data=tod_rides, x=tod_rides.index, y='rides', hue='member_type')\n",
    "# plt.title('Total Rides by Time of Day and Rider Type')\n",
    "# plt.xlabel('Time of Day')\n",
    "# plt.ylabel('Number of Rides')\n",
    "# plt.show()"
   ]
  },
  {
   "cell_type": "code",
   "execution_count": 24,
   "id": "cb8921c3",
   "metadata": {},
   "outputs": [
    {
     "data": {
      "text/html": [
       "<div>\n",
       "<style scoped>\n",
       "    .dataframe tbody tr th:only-of-type {\n",
       "        vertical-align: middle;\n",
       "    }\n",
       "\n",
       "    .dataframe tbody tr th {\n",
       "        vertical-align: top;\n",
       "    }\n",
       "\n",
       "    .dataframe thead th {\n",
       "        text-align: right;\n",
       "    }\n",
       "</style>\n",
       "<table border=\"1\" class=\"dataframe\">\n",
       "  <thead>\n",
       "    <tr style=\"text-align: right;\">\n",
       "      <th>weekday</th>\n",
       "      <th>Friday</th>\n",
       "      <th>Monday</th>\n",
       "      <th>Saturday</th>\n",
       "      <th>Sunday</th>\n",
       "      <th>Thursday</th>\n",
       "      <th>Tuesday</th>\n",
       "      <th>Wednesday</th>\n",
       "    </tr>\n",
       "  </thead>\n",
       "  <tbody>\n",
       "    <tr>\n",
       "      <th>0</th>\n",
       "      <td>791681</td>\n",
       "      <td>741810</td>\n",
       "      <td>904141</td>\n",
       "      <td>766658</td>\n",
       "      <td>831051</td>\n",
       "      <td>772699</td>\n",
       "      <td>788290</td>\n",
       "    </tr>\n",
       "  </tbody>\n",
       "</table>\n",
       "</div>"
      ],
      "text/plain": [
       "weekday  Friday  Monday  Saturday  Sunday  Thursday  Tuesday  Wednesday\n",
       "0        791681  741810    904141  766658    831051   772699     788290"
      ]
     },
     "execution_count": 24,
     "metadata": {},
     "output_type": "execute_result"
    }
   ],
   "source": [
    "#--------------------------------DAY OF THE WEEK-------------------------------------\n",
    "\n",
    "# Total rides by day of week\n",
    "final_data.groupby('weekday').size().to_frame().T"
   ]
  },
  {
   "cell_type": "code",
   "execution_count": 25,
   "id": "9e601d52",
   "metadata": {},
   "outputs": [
    {
     "data": {
      "text/html": [
       "<div>\n",
       "<style scoped>\n",
       "    .dataframe tbody tr th:only-of-type {\n",
       "        vertical-align: middle;\n",
       "    }\n",
       "\n",
       "    .dataframe tbody tr th {\n",
       "        vertical-align: top;\n",
       "    }\n",
       "\n",
       "    .dataframe thead tr th {\n",
       "        text-align: left;\n",
       "    }\n",
       "</style>\n",
       "<table border=\"1\" class=\"dataframe\">\n",
       "  <thead>\n",
       "    <tr>\n",
       "      <th>rider_type</th>\n",
       "      <th colspan=\"7\" halign=\"left\">casual</th>\n",
       "      <th colspan=\"7\" halign=\"left\">member</th>\n",
       "    </tr>\n",
       "    <tr>\n",
       "      <th>weekday</th>\n",
       "      <th>Friday</th>\n",
       "      <th>Monday</th>\n",
       "      <th>Saturday</th>\n",
       "      <th>Sunday</th>\n",
       "      <th>Thursday</th>\n",
       "      <th>Tuesday</th>\n",
       "      <th>Wednesday</th>\n",
       "      <th>Friday</th>\n",
       "      <th>Monday</th>\n",
       "      <th>Saturday</th>\n",
       "      <th>Sunday</th>\n",
       "      <th>Thursday</th>\n",
       "      <th>Tuesday</th>\n",
       "      <th>Wednesday</th>\n",
       "    </tr>\n",
       "  </thead>\n",
       "  <tbody>\n",
       "    <tr>\n",
       "      <th>0</th>\n",
       "      <td>331593</td>\n",
       "      <td>274052</td>\n",
       "      <td>464720</td>\n",
       "      <td>382329</td>\n",
       "      <td>306600</td>\n",
       "      <td>262822</td>\n",
       "      <td>271982</td>\n",
       "      <td>460088</td>\n",
       "      <td>467758</td>\n",
       "      <td>439421</td>\n",
       "      <td>384329</td>\n",
       "      <td>524451</td>\n",
       "      <td>509877</td>\n",
       "      <td>516308</td>\n",
       "    </tr>\n",
       "  </tbody>\n",
       "</table>\n",
       "</div>"
      ],
      "text/plain": [
       "rider_type  casual                                                      \\\n",
       "weekday     Friday  Monday Saturday  Sunday Thursday Tuesday Wednesday   \n",
       "0           331593  274052   464720  382329   306600  262822    271982   \n",
       "\n",
       "rider_type  member                                                      \n",
       "weekday     Friday  Monday Saturday  Sunday Thursday Tuesday Wednesday  \n",
       "0           460088  467758   439421  384329   524451  509877    516308  "
      ]
     },
     "execution_count": 25,
     "metadata": {},
     "output_type": "execute_result"
    }
   ],
   "source": [
    "\n",
    "# Total rides by member type and day of week\n",
    "final_data.groupby(['rider_type', 'weekday']).size().to_frame().T"
   ]
  },
  {
   "cell_type": "code",
   "execution_count": 34,
   "id": "2835617a",
   "metadata": {},
   "outputs": [
    {
     "data": {
      "text/html": [
       "<div>\n",
       "<style scoped>\n",
       "    .dataframe tbody tr th:only-of-type {\n",
       "        vertical-align: middle;\n",
       "    }\n",
       "\n",
       "    .dataframe tbody tr th {\n",
       "        vertical-align: top;\n",
       "    }\n",
       "\n",
       "    .dataframe thead th {\n",
       "        text-align: right;\n",
       "    }\n",
       "</style>\n",
       "<table border=\"1\" class=\"dataframe\">\n",
       "  <thead>\n",
       "    <tr style=\"text-align: right;\">\n",
       "      <th>month_day</th>\n",
       "      <th>1</th>\n",
       "      <th>2</th>\n",
       "      <th>3</th>\n",
       "      <th>4</th>\n",
       "      <th>5</th>\n",
       "      <th>6</th>\n",
       "      <th>7</th>\n",
       "      <th>8</th>\n",
       "      <th>9</th>\n",
       "      <th>10</th>\n",
       "      <th>...</th>\n",
       "      <th>22</th>\n",
       "      <th>23</th>\n",
       "      <th>24</th>\n",
       "      <th>25</th>\n",
       "      <th>26</th>\n",
       "      <th>27</th>\n",
       "      <th>28</th>\n",
       "      <th>29</th>\n",
       "      <th>30</th>\n",
       "      <th>31</th>\n",
       "    </tr>\n",
       "  </thead>\n",
       "  <tbody>\n",
       "    <tr>\n",
       "      <th>0</th>\n",
       "      <td>185892</td>\n",
       "      <td>188780</td>\n",
       "      <td>184610</td>\n",
       "      <td>176398</td>\n",
       "      <td>184059</td>\n",
       "      <td>165444</td>\n",
       "      <td>169514</td>\n",
       "      <td>162743</td>\n",
       "      <td>211904</td>\n",
       "      <td>214815</td>\n",
       "      <td>...</td>\n",
       "      <td>185673</td>\n",
       "      <td>203768</td>\n",
       "      <td>177027</td>\n",
       "      <td>144032</td>\n",
       "      <td>177810</td>\n",
       "      <td>166845</td>\n",
       "      <td>188343</td>\n",
       "      <td>194041</td>\n",
       "      <td>184471</td>\n",
       "      <td>107996</td>\n",
       "    </tr>\n",
       "  </tbody>\n",
       "</table>\n",
       "<p>1 rows × 31 columns</p>\n",
       "</div>"
      ],
      "text/plain": [
       "month_day      1       2       3       4       5       6       7       8   \\\n",
       "0          185892  188780  184610  176398  184059  165444  169514  162743   \n",
       "\n",
       "month_day      9       10  ...      22      23      24      25      26  \\\n",
       "0          211904  214815  ...  185673  203768  177027  144032  177810   \n",
       "\n",
       "month_day      27      28      29      30      31  \n",
       "0          166845  188343  194041  184471  107996  \n",
       "\n",
       "[1 rows x 31 columns]"
      ]
     },
     "execution_count": 34,
     "metadata": {},
     "output_type": "execute_result"
    }
   ],
   "source": [
    "#--------------------------------DAY OF THE MONTH------------------------------------\n",
    "\n",
    "\n",
    "# Total rides by day of month\n",
    "final_data.groupby('month_day').size().to_frame().T.head(50)"
   ]
  },
  {
   "cell_type": "code",
   "execution_count": 31,
   "id": "96cb30c5",
   "metadata": {},
   "outputs": [
    {
     "data": {
      "text/plain": [
       "rider_type  month_day\n",
       "casual      1             71238\n",
       "            2             77574\n",
       "            3             80769\n",
       "            4             72552\n",
       "            5             78824\n",
       "            6             63852\n",
       "            7             62680\n",
       "            8             58608\n",
       "            9             90685\n",
       "            10            92502\n",
       "            11            69521\n",
       "            12            71396\n",
       "            13            76949\n",
       "            14            79143\n",
       "            15            65109\n",
       "            16            85870\n",
       "            17            76400\n",
       "            18            69744\n",
       "            19            74873\n",
       "            20            74407\n",
       "            21            79935\n",
       "            22            76207\n",
       "            23            91322\n",
       "            24            76380\n",
       "            25            56497\n",
       "            26            72000\n",
       "            27            64006\n",
       "            28            75829\n",
       "            29            82861\n",
       "            30            83516\n",
       "            31            42849\n",
       "member      1            114654\n",
       "            2            111206\n",
       "            3            103841\n",
       "            4            103846\n",
       "            5            105235\n",
       "            6            101592\n",
       "            7            106834\n",
       "            8            104135\n",
       "            9            121219\n",
       "            10           122313\n",
       "            11           104413\n",
       "            12           110633\n",
       "            13           112272\n",
       "            14           115127\n",
       "            15           101003\n",
       "            16           115322\n",
       "            17           104534\n",
       "            18            99130\n",
       "            19           107817\n",
       "dtype: int64"
      ]
     },
     "execution_count": 31,
     "metadata": {},
     "output_type": "execute_result"
    }
   ],
   "source": [
    "\n",
    "# Total rides by member type and day of month\n",
    "final_data.groupby(['rider_type', 'month_day']).size().head(50)"
   ]
  },
  {
   "cell_type": "code",
   "execution_count": 40,
   "id": "64a5cf5f",
   "metadata": {},
   "outputs": [
    {
     "data": {
      "text/html": [
       "<div>\n",
       "<style scoped>\n",
       "    .dataframe tbody tr th:only-of-type {\n",
       "        vertical-align: middle;\n",
       "    }\n",
       "\n",
       "    .dataframe tbody tr th {\n",
       "        vertical-align: top;\n",
       "    }\n",
       "\n",
       "    .dataframe thead th {\n",
       "        text-align: right;\n",
       "    }\n",
       "</style>\n",
       "<table border=\"1\" class=\"dataframe\">\n",
       "  <thead>\n",
       "    <tr style=\"text-align: right;\">\n",
       "      <th>month</th>\n",
       "      <th>April</th>\n",
       "      <th>August</th>\n",
       "      <th>December</th>\n",
       "      <th>February</th>\n",
       "      <th>January</th>\n",
       "      <th>July</th>\n",
       "      <th>June</th>\n",
       "      <th>March</th>\n",
       "      <th>May</th>\n",
       "      <th>November</th>\n",
       "      <th>October</th>\n",
       "      <th>September</th>\n",
       "    </tr>\n",
       "  </thead>\n",
       "  <tbody>\n",
       "    <tr>\n",
       "      <th>0</th>\n",
       "      <td>366649</td>\n",
       "      <td>775751</td>\n",
       "      <td>178916</td>\n",
       "      <td>113955</td>\n",
       "      <td>102543</td>\n",
       "      <td>813205</td>\n",
       "      <td>760094</td>\n",
       "      <td>280932</td>\n",
       "      <td>627384</td>\n",
       "      <td>333180</td>\n",
       "      <td>551089</td>\n",
       "      <td>692632</td>\n",
       "    </tr>\n",
       "  </tbody>\n",
       "</table>\n",
       "</div>"
      ],
      "text/plain": [
       "month   April  August  December  February  January    July    June   March  \\\n",
       "0      366649  775751    178916    113955   102543  813205  760094  280932   \n",
       "\n",
       "month     May  November  October  September  \n",
       "0      627384    333180   551089     692632  "
      ]
     },
     "execution_count": 40,
     "metadata": {},
     "output_type": "execute_result"
    }
   ],
   "source": [
    "#-----------------------------------MONTH-------------------------------------------\n",
    "\n",
    "# Total rides by month\n",
    "final_data.groupby('month').size().to_frame().T"
   ]
  },
  {
   "cell_type": "code",
   "execution_count": 36,
   "id": "df492d32",
   "metadata": {},
   "outputs": [
    {
     "data": {
      "text/html": [
       "<div>\n",
       "<style scoped>\n",
       "    .dataframe tbody tr th:only-of-type {\n",
       "        vertical-align: middle;\n",
       "    }\n",
       "\n",
       "    .dataframe tbody tr th {\n",
       "        vertical-align: top;\n",
       "    }\n",
       "\n",
       "    .dataframe thead tr th {\n",
       "        text-align: left;\n",
       "    }\n",
       "</style>\n",
       "<table border=\"1\" class=\"dataframe\">\n",
       "  <thead>\n",
       "    <tr>\n",
       "      <th>rider_type</th>\n",
       "      <th colspan=\"10\" halign=\"left\">casual</th>\n",
       "      <th>...</th>\n",
       "      <th colspan=\"10\" halign=\"left\">member</th>\n",
       "    </tr>\n",
       "    <tr>\n",
       "      <th>month</th>\n",
       "      <th>April</th>\n",
       "      <th>August</th>\n",
       "      <th>December</th>\n",
       "      <th>February</th>\n",
       "      <th>January</th>\n",
       "      <th>July</th>\n",
       "      <th>June</th>\n",
       "      <th>March</th>\n",
       "      <th>May</th>\n",
       "      <th>November</th>\n",
       "      <th>...</th>\n",
       "      <th>December</th>\n",
       "      <th>February</th>\n",
       "      <th>January</th>\n",
       "      <th>July</th>\n",
       "      <th>June</th>\n",
       "      <th>March</th>\n",
       "      <th>May</th>\n",
       "      <th>November</th>\n",
       "      <th>October</th>\n",
       "      <th>September</th>\n",
       "    </tr>\n",
       "  </thead>\n",
       "  <tbody>\n",
       "    <tr>\n",
       "      <th>0</th>\n",
       "      <td>124949</td>\n",
       "      <td>354439</td>\n",
       "      <td>44217</td>\n",
       "      <td>21110</td>\n",
       "      <td>18249</td>\n",
       "      <td>401248</td>\n",
       "      <td>364911</td>\n",
       "      <td>88936</td>\n",
       "      <td>277229</td>\n",
       "      <td>99376</td>\n",
       "      <td>...</td>\n",
       "      <td>134699</td>\n",
       "      <td>92845</td>\n",
       "      <td>84294</td>\n",
       "      <td>411957</td>\n",
       "      <td>395183</td>\n",
       "      <td>191996</td>\n",
       "      <td>350155</td>\n",
       "      <td>233804</td>\n",
       "      <td>344836</td>\n",
       "      <td>399451</td>\n",
       "    </tr>\n",
       "  </tbody>\n",
       "</table>\n",
       "<p>1 rows × 24 columns</p>\n",
       "</div>"
      ],
      "text/plain": [
       "rider_type  casual                                                           \\\n",
       "month        April  August December February January    July    June  March   \n",
       "0           124949  354439    44217    21110   18249  401248  364911  88936   \n",
       "\n",
       "rider_type                   ...   member                                   \\\n",
       "month          May November  ... December February January    July    June   \n",
       "0           277229    99376  ...   134699    92845   84294  411957  395183   \n",
       "\n",
       "rider_type                                             \n",
       "month        March     May November October September  \n",
       "0           191996  350155   233804  344836    399451  \n",
       "\n",
       "[1 rows x 24 columns]"
      ]
     },
     "execution_count": 36,
     "metadata": {},
     "output_type": "execute_result"
    }
   ],
   "source": [
    "\n",
    "# Total rides by member type and month\n",
    "final_data.groupby(['rider_type', 'month']).size().to_frame().T"
   ]
  },
  {
   "cell_type": "code",
   "execution_count": 45,
   "id": "a1ae646a",
   "metadata": {},
   "outputs": [
    {
     "data": {
      "text/plain": [
       "rider_type\n",
       "casual    491114\n",
       "member    783851\n",
       "Name: season, dtype: int64"
      ]
     },
     "execution_count": 45,
     "metadata": {},
     "output_type": "execute_result"
    }
   ],
   "source": [
    "#-----------------------------------SEASON------------------------------------------\n",
    "\n",
    "# Spring\n",
    "final_data.loc[final_data['season'] == 'Spring'].groupby('rider_type')['season'].size()\n"
   ]
  },
  {
   "cell_type": "code",
   "execution_count": 44,
   "id": "b1e4297f",
   "metadata": {},
   "outputs": [
    {
     "data": {
      "text/plain": [
       "rider_type\n",
       "casual    1120598\n",
       "member    1228452\n",
       "Name: season, dtype: int64"
      ]
     },
     "execution_count": 44,
     "metadata": {},
     "output_type": "execute_result"
    }
   ],
   "source": [
    "#-----------------------------------SEASON------------------------------------------\n",
    "\n",
    "# Summer\n",
    "final_data.loc[final_data['season'] == 'Summer'].groupby('rider_type')['season'].size()\n"
   ]
  },
  {
   "cell_type": "code",
   "execution_count": 43,
   "id": "484c4a0b",
   "metadata": {},
   "outputs": [
    {
     "data": {
      "text/plain": [
       "rider_type\n",
       "casual    598810\n",
       "member    978091\n",
       "Name: season, dtype: int64"
      ]
     },
     "execution_count": 43,
     "metadata": {},
     "output_type": "execute_result"
    }
   ],
   "source": [
    "#-----------------------------------SEASON------------------------------------------\n",
    "\n",
    "# Fall\n",
    "final_data.loc[final_data['season'] == 'Fall'].groupby('rider_type')['season'].size()\n"
   ]
  },
  {
   "cell_type": "code",
   "execution_count": 42,
   "id": "a133b1e3",
   "metadata": {},
   "outputs": [
    {
     "data": {
      "text/plain": [
       "rider_type\n",
       "casual     83576\n",
       "member    311838\n",
       "Name: season, dtype: int64"
      ]
     },
     "execution_count": 42,
     "metadata": {},
     "output_type": "execute_result"
    }
   ],
   "source": [
    "#-----------------------------------SEASON------------------------------------------\n",
    "\n",
    "# Winter\n",
    "final_data.loc[final_data['season'] == 'Winter'].groupby('rider_type')['season'].size()\n"
   ]
  },
  {
   "cell_type": "code",
   "execution_count": 41,
   "id": "e5392a57",
   "metadata": {},
   "outputs": [
    {
     "data": {
      "text/plain": [
       "season  rider_type\n",
       "Fall    casual         598810\n",
       "        member         978091\n",
       "Spring  casual         491114\n",
       "        member         783851\n",
       "Summer  casual        1120598\n",
       "        member        1228452\n",
       "Winter  casual          83576\n",
       "        member         311838\n",
       "dtype: int64"
      ]
     },
     "execution_count": 41,
     "metadata": {},
     "output_type": "execute_result"
    }
   ],
   "source": [
    "#-----------------------------------SEASON------------------------------------------\n",
    "\n",
    "# All seasons\n",
    "final_data.groupby(['season', 'rider_type']).size()"
   ]
  },
  {
   "cell_type": "code",
   "execution_count": 47,
   "id": "ab9f41a1",
   "metadata": {},
   "outputs": [
    {
     "name": "stdout",
     "output_type": "stream",
     "text": [
      "19.694022868558502\n"
     ]
    }
   ],
   "source": [
    "#--------------------------AVERAGE RIDE LENGTH-------------------------------------\n",
    "\n",
    "# Average ride length\n",
    "avgRide = final_data['ride_length'].mean()\n",
    "print(avgRide)\n"
   ]
  },
  {
   "cell_type": "code",
   "execution_count": 46,
   "id": "eaef8e20",
   "metadata": {},
   "outputs": [
    {
     "data": {
      "text/plain": [
       "rider_type\n",
       "casual    29.500508\n",
       "member    12.881346\n",
       "Name: ride_length, dtype: float64"
      ]
     },
     "execution_count": 46,
     "metadata": {},
     "output_type": "execute_result"
    }
   ],
   "source": [
    "\n",
    "# Average ride length by member type\n",
    "final_data.groupby('rider_type')['ride_length'].mean()"
   ]
  },
  {
   "cell_type": "code",
   "execution_count": 24,
   "id": "10483bb0",
   "metadata": {},
   "outputs": [
    {
     "data": {
      "text/html": [
       "<div>\n",
       "<style scoped>\n",
       "    .dataframe tbody tr th:only-of-type {\n",
       "        vertical-align: middle;\n",
       "    }\n",
       "\n",
       "    .dataframe tbody tr th {\n",
       "        vertical-align: top;\n",
       "    }\n",
       "\n",
       "    .dataframe thead th {\n",
       "        text-align: right;\n",
       "    }\n",
       "</style>\n",
       "<table border=\"1\" class=\"dataframe\">\n",
       "  <thead>\n",
       "    <tr style=\"text-align: right;\">\n",
       "      <th></th>\n",
       "      <th>ride_id</th>\n",
       "      <th>bike_type</th>\n",
       "      <th>started_at</th>\n",
       "      <th>date</th>\n",
       "      <th>time</th>\n",
       "      <th>hour</th>\n",
       "      <th>weekday</th>\n",
       "      <th>month_day</th>\n",
       "      <th>month</th>\n",
       "      <th>ended_at</th>\n",
       "      <th>rider_type</th>\n",
       "      <th>ride_length</th>\n",
       "      <th>season</th>\n",
       "      <th>time_of_day</th>\n",
       "    </tr>\n",
       "  </thead>\n",
       "  <tbody>\n",
       "    <tr>\n",
       "      <th>0</th>\n",
       "      <td>C2F7DD78E82EC875</td>\n",
       "      <td>electric_bike</td>\n",
       "      <td>2022-01-13 11:59:00</td>\n",
       "      <td>2022-01-13</td>\n",
       "      <td>11:59:47</td>\n",
       "      <td>12</td>\n",
       "      <td>Thursday</td>\n",
       "      <td>13</td>\n",
       "      <td>January</td>\n",
       "      <td>2022-01-13 12:02:00</td>\n",
       "      <td>casual</td>\n",
       "      <td>3</td>\n",
       "      <td>Winter</td>\n",
       "      <td>Afternoon</td>\n",
       "    </tr>\n",
       "    <tr>\n",
       "      <th>1</th>\n",
       "      <td>A6CF8980A652D272</td>\n",
       "      <td>electric_bike</td>\n",
       "      <td>2022-01-10 08:41:00</td>\n",
       "      <td>2022-01-10</td>\n",
       "      <td>8:41:56</td>\n",
       "      <td>9</td>\n",
       "      <td>Monday</td>\n",
       "      <td>10</td>\n",
       "      <td>January</td>\n",
       "      <td>2022-01-10 08:46:00</td>\n",
       "      <td>casual</td>\n",
       "      <td>4</td>\n",
       "      <td>Winter</td>\n",
       "      <td>Morning</td>\n",
       "    </tr>\n",
       "    <tr>\n",
       "      <th>2</th>\n",
       "      <td>BD0F91DFF741C66D</td>\n",
       "      <td>classic_bike</td>\n",
       "      <td>2022-01-25 04:53:00</td>\n",
       "      <td>2022-01-25</td>\n",
       "      <td>4:53:40</td>\n",
       "      <td>5</td>\n",
       "      <td>Tuesday</td>\n",
       "      <td>25</td>\n",
       "      <td>January</td>\n",
       "      <td>2022-01-25 04:58:00</td>\n",
       "      <td>member</td>\n",
       "      <td>4</td>\n",
       "      <td>Winter</td>\n",
       "      <td>Night</td>\n",
       "    </tr>\n",
       "    <tr>\n",
       "      <th>3</th>\n",
       "      <td>CBB80ED419105406</td>\n",
       "      <td>classic_bike</td>\n",
       "      <td>2022-01-04 00:18:00</td>\n",
       "      <td>2022-01-04</td>\n",
       "      <td>0:18:04</td>\n",
       "      <td>0</td>\n",
       "      <td>Tuesday</td>\n",
       "      <td>4</td>\n",
       "      <td>January</td>\n",
       "      <td>2022-01-04 00:33:00</td>\n",
       "      <td>casual</td>\n",
       "      <td>15</td>\n",
       "      <td>Winter</td>\n",
       "      <td>Night</td>\n",
       "    </tr>\n",
       "    <tr>\n",
       "      <th>4</th>\n",
       "      <td>DDC963BFDDA51EEA</td>\n",
       "      <td>classic_bike</td>\n",
       "      <td>2022-01-20 01:31:00</td>\n",
       "      <td>2022-01-20</td>\n",
       "      <td>1:31:10</td>\n",
       "      <td>2</td>\n",
       "      <td>Thursday</td>\n",
       "      <td>20</td>\n",
       "      <td>January</td>\n",
       "      <td>2022-01-20 01:37:00</td>\n",
       "      <td>member</td>\n",
       "      <td>6</td>\n",
       "      <td>Winter</td>\n",
       "      <td>Night</td>\n",
       "    </tr>\n",
       "    <tr>\n",
       "      <th>...</th>\n",
       "      <td>...</td>\n",
       "      <td>...</td>\n",
       "      <td>...</td>\n",
       "      <td>...</td>\n",
       "      <td>...</td>\n",
       "      <td>...</td>\n",
       "      <td>...</td>\n",
       "      <td>...</td>\n",
       "      <td>...</td>\n",
       "      <td>...</td>\n",
       "      <td>...</td>\n",
       "      <td>...</td>\n",
       "      <td>...</td>\n",
       "      <td>...</td>\n",
       "    </tr>\n",
       "    <tr>\n",
       "      <th>5596325</th>\n",
       "      <td>4FEE15DACFA74B1A</td>\n",
       "      <td>electric_bike</td>\n",
       "      <td>2022-12-02 13:07:00</td>\n",
       "      <td>2022-12-02</td>\n",
       "      <td>13:07:59</td>\n",
       "      <td>13</td>\n",
       "      <td>Friday</td>\n",
       "      <td>2</td>\n",
       "      <td>December</td>\n",
       "      <td>2022-12-02 13:08:00</td>\n",
       "      <td>member</td>\n",
       "      <td>1</td>\n",
       "      <td>Winter</td>\n",
       "      <td>Afternoon</td>\n",
       "    </tr>\n",
       "    <tr>\n",
       "      <th>5596326</th>\n",
       "      <td>0D89C00047A9F983</td>\n",
       "      <td>electric_bike</td>\n",
       "      <td>2022-12-07 10:00:00</td>\n",
       "      <td>2022-12-07</td>\n",
       "      <td>10:00:59</td>\n",
       "      <td>10</td>\n",
       "      <td>Wednesday</td>\n",
       "      <td>7</td>\n",
       "      <td>December</td>\n",
       "      <td>2022-12-07 10:01:00</td>\n",
       "      <td>member</td>\n",
       "      <td>1</td>\n",
       "      <td>Winter</td>\n",
       "      <td>Morning</td>\n",
       "    </tr>\n",
       "    <tr>\n",
       "      <th>5596327</th>\n",
       "      <td>D259991D3C31A477</td>\n",
       "      <td>classic_bike</td>\n",
       "      <td>2022-12-30 14:25:00</td>\n",
       "      <td>2022-12-30</td>\n",
       "      <td>14:25:59</td>\n",
       "      <td>14</td>\n",
       "      <td>Friday</td>\n",
       "      <td>30</td>\n",
       "      <td>December</td>\n",
       "      <td>2022-12-30 14:26:00</td>\n",
       "      <td>member</td>\n",
       "      <td>1</td>\n",
       "      <td>Winter</td>\n",
       "      <td>Afternoon</td>\n",
       "    </tr>\n",
       "    <tr>\n",
       "      <th>5596328</th>\n",
       "      <td>0310B8FDC76C0764</td>\n",
       "      <td>classic_bike</td>\n",
       "      <td>2022-12-10 21:16:00</td>\n",
       "      <td>2022-12-10</td>\n",
       "      <td>21:16:58</td>\n",
       "      <td>21</td>\n",
       "      <td>Saturday</td>\n",
       "      <td>10</td>\n",
       "      <td>December</td>\n",
       "      <td>2022-12-10 21:17:00</td>\n",
       "      <td>member</td>\n",
       "      <td>1</td>\n",
       "      <td>Winter</td>\n",
       "      <td>Evening</td>\n",
       "    </tr>\n",
       "    <tr>\n",
       "      <th>5596329</th>\n",
       "      <td>AF4D862D573A193F</td>\n",
       "      <td>electric_bike</td>\n",
       "      <td>2022-12-08 07:14:00</td>\n",
       "      <td>2022-12-08</td>\n",
       "      <td>7:14:59</td>\n",
       "      <td>7</td>\n",
       "      <td>Thursday</td>\n",
       "      <td>8</td>\n",
       "      <td>December</td>\n",
       "      <td>2022-12-08 07:15:00</td>\n",
       "      <td>member</td>\n",
       "      <td>1</td>\n",
       "      <td>Winter</td>\n",
       "      <td>Morning</td>\n",
       "    </tr>\n",
       "  </tbody>\n",
       "</table>\n",
       "<p>5596330 rows × 14 columns</p>\n",
       "</div>"
      ],
      "text/plain": [
       "                  ride_id      bike_type           started_at        date  \\\n",
       "0        C2F7DD78E82EC875  electric_bike  2022-01-13 11:59:00  2022-01-13   \n",
       "1        A6CF8980A652D272  electric_bike  2022-01-10 08:41:00  2022-01-10   \n",
       "2        BD0F91DFF741C66D   classic_bike  2022-01-25 04:53:00  2022-01-25   \n",
       "3        CBB80ED419105406   classic_bike  2022-01-04 00:18:00  2022-01-04   \n",
       "4        DDC963BFDDA51EEA   classic_bike  2022-01-20 01:31:00  2022-01-20   \n",
       "...                   ...            ...                  ...         ...   \n",
       "5596325  4FEE15DACFA74B1A  electric_bike  2022-12-02 13:07:00  2022-12-02   \n",
       "5596326  0D89C00047A9F983  electric_bike  2022-12-07 10:00:00  2022-12-07   \n",
       "5596327  D259991D3C31A477   classic_bike  2022-12-30 14:25:00  2022-12-30   \n",
       "5596328  0310B8FDC76C0764   classic_bike  2022-12-10 21:16:00  2022-12-10   \n",
       "5596329  AF4D862D573A193F  electric_bike  2022-12-08 07:14:00  2022-12-08   \n",
       "\n",
       "             time  hour    weekday  month_day     month             ended_at  \\\n",
       "0        11:59:47    12   Thursday         13   January  2022-01-13 12:02:00   \n",
       "1         8:41:56     9     Monday         10   January  2022-01-10 08:46:00   \n",
       "2         4:53:40     5    Tuesday         25   January  2022-01-25 04:58:00   \n",
       "3         0:18:04     0    Tuesday          4   January  2022-01-04 00:33:00   \n",
       "4         1:31:10     2   Thursday         20   January  2022-01-20 01:37:00   \n",
       "...           ...   ...        ...        ...       ...                  ...   \n",
       "5596325  13:07:59    13     Friday          2  December  2022-12-02 13:08:00   \n",
       "5596326  10:00:59    10  Wednesday          7  December  2022-12-07 10:01:00   \n",
       "5596327  14:25:59    14     Friday         30  December  2022-12-30 14:26:00   \n",
       "5596328  21:16:58    21   Saturday         10  December  2022-12-10 21:17:00   \n",
       "5596329   7:14:59     7   Thursday          8  December  2022-12-08 07:15:00   \n",
       "\n",
       "        rider_type  ride_length  season time_of_day  \n",
       "0           casual            3  Winter   Afternoon  \n",
       "1           casual            4  Winter     Morning  \n",
       "2           member            4  Winter       Night  \n",
       "3           casual           15  Winter       Night  \n",
       "4           member            6  Winter       Night  \n",
       "...            ...          ...     ...         ...  \n",
       "5596325     member            1  Winter   Afternoon  \n",
       "5596326     member            1  Winter     Morning  \n",
       "5596327     member            1  Winter   Afternoon  \n",
       "5596328     member            1  Winter     Evening  \n",
       "5596329     member            1  Winter     Morning  \n",
       "\n",
       "[5596330 rows x 14 columns]"
      ]
     },
     "execution_count": 24,
     "metadata": {},
     "output_type": "execute_result"
    }
   ],
   "source": [
    "df"
   ]
  }
 ],
 "metadata": {
  "kernelspec": {
   "display_name": "Python 3 (ipykernel)",
   "language": "python",
   "name": "python3"
  },
  "language_info": {
   "codemirror_mode": {
    "name": "ipython",
    "version": 3
   },
   "file_extension": ".py",
   "mimetype": "text/x-python",
   "name": "python",
   "nbconvert_exporter": "python",
   "pygments_lexer": "ipython3",
   "version": "3.9.13"
  }
 },
 "nbformat": 4,
 "nbformat_minor": 5
}
